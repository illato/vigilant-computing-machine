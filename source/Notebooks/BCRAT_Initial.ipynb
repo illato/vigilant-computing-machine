{
 "cells": [
  {
   "cell_type": "markdown",
   "id": "e1d682e7",
   "metadata": {},
   "source": [
    "# Set working directory to root of repository on your machine"
   ]
  },
  {
   "cell_type": "code",
   "execution_count": 1,
   "id": "a9ac4ddc",
   "metadata": {},
   "outputs": [],
   "source": [
    "setwd('C:/Users/Bob/Desktop/U/practicum/vigilant-computing-machine/')\n",
    "#setwd('C:/Users/John/Desktop/U/practicum/vigilant-computing-machine/')\n",
    "#setwd('C:/Users/Sam/Desktop/U/practicum/vigilant-computing-machine/')"
   ]
  },
  {
   "cell_type": "code",
   "execution_count": 2,
   "id": "9a186653",
   "metadata": {},
   "outputs": [
    {
     "name": "stdout",
     "output_type": "stream",
     "text": [
      "'data.frame':\t1200 obs. of  10 variables:\n",
      " $ ID         : num  561 321 1177 1098 1170 ...\n",
      " $ T1         : num  53 53 53 51 51 58 56 48 58 52 ...\n",
      " $ T2         : num  90 90 90 90 90 90 90 90 90 90 ...\n",
      " $ N_Biop     : num  1 0 1 0 1 3 0 0 0 0 ...\n",
      " $ HypPlas    : num  0 99 0 99 1 0 99 99 99 99 ...\n",
      " $ AgeMen     : num  13 11 12 13 13 11 11 13 14 13 ...\n",
      " $ Age1st     : num  25 22 28 98 24 24 24 98 25 23 ...\n",
      " $ N_Rels     : num  0 0 0 3 0 0 0 0 0 1 ...\n",
      " $ Race       : num  3 2 1 3 1 1 3 3 4 4 ...\n",
      " $ Case_Random: num  0 1 1 0 1 1 0 0 1 1 ...\n",
      "'data.frame':\t1200 obs. of  10 variables:\n",
      " $ ID           : num  561 321 1177 1098 1170 ...\n",
      " $ T1           : num  53 53 53 51 51 58 56 48 58 52 ...\n",
      " $ T2           : num  90 90 90 90 90 90 90 90 90 90 ...\n",
      " $ N_Biop       : num  1 0 1 0 1 3 0 0 0 0 ...\n",
      " $ HypPlas      : num  0 99 0 99 1 0 99 99 99 99 ...\n",
      " $ AgeMen       : num  13 11 12 13 13 11 11 13 14 13 ...\n",
      " $ Age1st       : num  25 22 28 98 24 24 24 98 25 23 ...\n",
      " $ N_Rels       : num  0 0 0 3 0 0 0 0 0 1 ...\n",
      " $ Race         : num  3 2 1 3 1 1 3 3 4 4 ...\n",
      " $ Case_signalYN: num  1 0 1 0 0 1 1 0 1 1 ...\n"
     ]
    }
   ],
   "source": [
    "source('./ML_BCP/data/Data Simulation 1 Gail.R')"
   ]
  },
  {
   "cell_type": "code",
   "execution_count": 3,
   "id": "9735319f",
   "metadata": {},
   "outputs": [
    {
     "name": "stdout",
     "output_type": "stream",
     "text": [
      "package 'BCRA' successfully unpacked and MD5 sums checked\n",
      "\n",
      "The downloaded binary packages are in\n",
      "\tC:\\Users\\Bob\\AppData\\Local\\Temp\\Rtmp8aDD7g\\downloaded_packages\n",
      "'data.frame':\t1200 obs. of  15 variables:\n",
      " $ ID         : chr  \"561\" \"321\" \"1177\" \"1098\" ...\n",
      " $ T1         : chr  \"53\" \"53\" \"53\" \"51\" ...\n",
      " $ T2         : chr  \"90\" \"90\" \"90\" \"90\" ...\n",
      " $ Proj_Intvl : chr  \"37\" \"37\" \"37\" \"39\" ...\n",
      " $ N_Biop     : chr  \"1\" \"0\" \"1\" \"0\" ...\n",
      " $ HypPlas    : chr  \"0\" \"99\" \"0\" \"99\" ...\n",
      " $ AgeMen     : chr  \"13\" \"11\" \"12\" \"13\" ...\n",
      " $ Age1st     : chr  \"25\" \"22\" \"28\" \"98\" ...\n",
      " $ N_Rels     : chr  \"0\" \"0\" \"0\" \"3\" ...\n",
      " $ Race       : chr  \"3\" \"2\" \"1\" \"3\" ...\n",
      " $ CharRace   : chr  \"HU\" \"AA\" \"Wh\" \"HU\" ...\n",
      " $ RR_Star1   : chr  \"1.29219781944437\" \"1.30637096026034\" \"2.68573981216559\" \"1.87828496495005\" ...\n",
      " $ RR_Star2   : chr  \"1.29219781944437\" \"1.30637096026034\" \"2.01357901321476\" \"1.87828496495005\" ...\n",
      " $ AbsRisk    : chr  \"8.34373453177392\" \"8.18024335894378\" \"11.0343937962468\" \"12.3932230874193\" ...\n",
      " $ AbsRisk_Avg: chr  \"8.29937242992159\" \"8.40457067791831\" \"10.591055966167\" \"8.67047997535387\" ...\n",
      "'data.frame':\t1200 obs. of  15 variables:\n",
      " $ ID         : chr  \"561\" \"321\" \"1177\" \"1098\" ...\n",
      " $ T1         : chr  \"53\" \"53\" \"53\" \"51\" ...\n",
      " $ T2         : chr  \"90\" \"90\" \"90\" \"90\" ...\n",
      " $ Proj_Intvl : chr  \"37\" \"37\" \"37\" \"39\" ...\n",
      " $ N_Biop     : chr  \"1\" \"0\" \"1\" \"0\" ...\n",
      " $ HypPlas    : chr  \"0\" \"99\" \"0\" \"99\" ...\n",
      " $ AgeMen     : chr  \"13\" \"11\" \"12\" \"13\" ...\n",
      " $ Age1st     : chr  \"25\" \"22\" \"28\" \"98\" ...\n",
      " $ N_Rels     : chr  \"0\" \"0\" \"0\" \"3\" ...\n",
      " $ Race       : chr  \"3\" \"2\" \"1\" \"3\" ...\n",
      " $ CharRace   : chr  \"HU\" \"AA\" \"Wh\" \"HU\" ...\n",
      " $ RR_Star1   : chr  \"1.29219781944437\" \"1.30637096026034\" \"2.68573981216559\" \"1.87828496495005\" ...\n",
      " $ RR_Star2   : chr  \"1.29219781944437\" \"1.30637096026034\" \"2.01357901321476\" \"1.87828496495005\" ...\n",
      " $ AbsRisk    : chr  \"8.34373453177392\" \"8.18024335894378\" \"11.0343937962468\" \"12.3932230874193\" ...\n",
      " $ AbsRisk_Avg: chr  \"8.29937242992159\" \"8.40457067791831\" \"10.591055966167\" \"8.67047997535387\" ...\n"
     ]
    }
   ],
   "source": [
    "source('./ML_BCP/code/BCRAT prediction for Simulated data.R')"
   ]
  },
  {
   "cell_type": "code",
   "execution_count": 5,
   "id": "b7776512",
   "metadata": {},
   "outputs": [
    {
     "name": "stdout",
     "output_type": "stream",
     "text": [
      "'data.frame':\t1200 obs. of  10 variables:\n",
      " $ ID           : num  561 321 1177 1098 1170 ...\n",
      " $ T1           : num  53 53 53 51 51 58 56 48 58 52 ...\n",
      " $ T2           : num  90 90 90 90 90 90 90 90 90 90 ...\n",
      " $ N_Biop       : num  1 0 1 0 1 3 0 0 0 0 ...\n",
      " $ HypPlas      : num  0 99 0 99 1 0 99 99 99 99 ...\n",
      " $ AgeMen       : num  13 11 12 13 13 99 11 13 14 13 ...\n",
      " $ Age1st       : num  25 22 28 98 99 24 24 98 25 23 ...\n",
      " $ N_Rels       : num  0 0 99 3 0 0 0 0 0 99 ...\n",
      " $ Race         : num  3 2 1 3 1 1 3 3 4 4 ...\n",
      " $ Case_signalYN: num  1 0 1 0 0 1 1 0 1 1 ...\n",
      "'data.frame':\t1200 obs. of  10 variables:\n",
      " $ ID           : num  561 321 1177 1098 1170 ...\n",
      " $ T1           : num  53 53 53 51 51 58 56 48 58 52 ...\n",
      " $ T2           : num  90 90 90 90 90 90 90 90 90 90 ...\n",
      " $ N_Biop       : num  1 0 1 0 1 3 0 0 0 0 ...\n",
      " $ HypPlas      : num  0 99 0 99 1 0 99 99 99 99 ...\n",
      " $ AgeMen       : num  13 11 12 13 13 NA 11 13 14 13 ...\n",
      " $ Age1st       : num  25 22 28 98 NA 24 24 98 25 23 ...\n",
      " $ N_Rels       : num  0 0 NA 3 0 0 0 0 0 NA ...\n",
      " $ Race         : num  3 2 1 3 1 1 3 3 4 4 ...\n",
      " $ Case_signalYN: num  1 0 1 0 0 1 1 0 1 1 ...\n",
      "'data.frame':\t1200 obs. of  10 variables:\n",
      " $ ID           : num  561 321 1177 1098 1170 ...\n",
      " $ T1           : num  53 53 53 51 51 58 56 48 58 52 ...\n",
      " $ T2           : num  90 90 90 90 90 90 90 90 90 90 ...\n",
      " $ N_Biop       : num  1 0 1 0 1 3 0 0 0 0 ...\n",
      " $ HypPlas      : num  0 99 0 99 1 0 99 99 99 99 ...\n",
      " $ AgeMen       : num  13 11 12 13 13 NA 11 13 14 13 ...\n",
      " $ Age1st       : num  25 22 28 98 NA 24 24 98 25 23 ...\n",
      " $ N_Rels       : num  0 0 NA 3 0 0 0 0 0 NA ...\n",
      " $ Race         : num  3 2 1 3 1 1 3 3 4 4 ...\n",
      " $ Case_signalYN: num  1 0 1 0 0 1 1 0 1 1 ...\n",
      "'data.frame':\t1200 obs. of  10 variables:\n",
      " $ ID           : num  561 321 1177 1098 1170 ...\n",
      " $ T1           : num  53 53 53 51 51 58 56 48 58 52 ...\n",
      " $ T2           : num  90 90 90 90 90 90 90 90 90 90 ...\n",
      " $ N_Biop       : num  1 0 1 0 1 3 0 0 0 0 ...\n",
      " $ HypPlas      : Ord.factor w/ 3 levels \"0\"<\"1\"<\"99\": 1 3 1 3 2 1 3 3 3 3 ...\n",
      " $ AgeMen       : num  13 11 12 13 13 ...\n",
      " $ Age1st       : num  25 22 28 98 13.1 ...\n",
      " $ N_Rels       : num  0 0 0.391 3 0 ...\n",
      " $ Race         : num  3 2 1 3 1 1 3 3 4 4 ...\n",
      " $ Case_signalYN: Factor w/ 2 levels \"0\",\"1\": 2 1 2 1 1 2 2 1 2 2 ...\n"
     ]
    }
   ],
   "source": [
    "source('./ML_BCP/data/Simulation add NA & mutiple imputation.R')"
   ]
  },
  {
   "cell_type": "code",
   "execution_count": 6,
   "id": "5fdf2f9c",
   "metadata": {},
   "outputs": [
    {
     "name": "stdout",
     "output_type": "stream",
     "text": [
      "'data.frame':\t1200 obs. of  15 variables:\n",
      " $ ID         : chr  \"561\" \"321\" \"1177\" \"1098\" ...\n",
      " $ T1         : chr  \"53\" \"53\" \"53\" \"51\" ...\n",
      " $ T2         : chr  \"90\" \"90\" \"90\" \"90\" ...\n",
      " $ Proj_Intvl : chr  \"37\" \"37\" \"37\" \"39\" ...\n",
      " $ N_Biop     : chr  \"1\" \"0\" \"1\" \"0\" ...\n",
      " $ HypPlas    : chr  \"0\" \"99\" \"0\" \"99\" ...\n",
      " $ AgeMen     : chr  \"13\" \"11\" \"12\" \"13\" ...\n",
      " $ Age1st     : chr  \"25\" \"22\" \"28\" \"98\" ...\n",
      " $ N_Rels     : chr  \"0\" \"0\" \"99\" \"3\" ...\n",
      " $ Race       : chr  \"3\" \"2\" \"1\" \"3\" ...\n",
      " $ CharRace   : chr  \"HU\" \"AA\" \"Wh\" \"HU\" ...\n",
      " $ RR_Star1   : chr  \"1.29219781944437\" \"1.30637096026034\" \"2.68573981216559\" \"1.87828496495005\" ...\n",
      " $ RR_Star2   : chr  \"1.29219781944437\" \"1.30637096026034\" \"2.01357901321476\" \"1.87828496495005\" ...\n",
      " $ AbsRisk    : chr  \"8.34373453177392\" \"8.18024335894378\" \"11.0343937962468\" \"12.3932230874193\" ...\n",
      " $ AbsRisk_Avg: chr  \"8.29937242992159\" \"8.40457067791831\" \"10.591055966167\" \"8.67047997535387\" ...\n",
      "'data.frame':\t1200 obs. of  10 variables:\n",
      " $ ID           : num  561 321 1177 1098 1170 ...\n",
      " $ T1           : num  53 53 53 51 51 58 56 48 58 52 ...\n",
      " $ T2           : num  90 90 90 90 90 90 90 90 90 90 ...\n",
      " $ N_Biop       : num  1 0 1 0 1 3 0 0 0 0 ...\n",
      " $ HypPlas      : num  0 99 0 99 1 0 99 99 99 99 ...\n",
      " $ AgeMen       : num  13 11 12 13 13 11 11 13 14 13 ...\n",
      " $ Age1st       : num  25 22 28 40 18 24 24 40 25 23 ...\n",
      " $ N_Rels       : num  0 0 0 3 0 0 0 0 0 2 ...\n",
      " $ Race         : num  3 2 1 3 1 1 3 3 4 4 ...\n",
      " $ Case_signalYN: num  1 0 1 0 0 1 1 0 1 1 ...\n",
      "'data.frame':\t1200 obs. of  15 variables:\n",
      " $ ID         : chr  \"561\" \"321\" \"1177\" \"1098\" ...\n",
      " $ T1         : chr  \"53\" \"53\" \"53\" \"51\" ...\n",
      " $ T2         : chr  \"90\" \"90\" \"90\" \"90\" ...\n",
      " $ Proj_Intvl : chr  \"37\" \"37\" \"37\" \"39\" ...\n",
      " $ N_Biop     : chr  \"1\" \"0\" \"1\" \"0\" ...\n",
      " $ HypPlas    : chr  \"0\" \"99\" \"0\" \"99\" ...\n",
      " $ AgeMen     : chr  \"13\" \"11\" \"12\" \"13\" ...\n",
      " $ Age1st     : chr  \"25\" \"22\" \"28\" \"40\" ...\n",
      " $ N_Rels     : chr  \"0\" \"0\" \"0\" \"3\" ...\n",
      " $ Race       : chr  \"3\" \"2\" \"1\" \"3\" ...\n",
      " $ CharRace   : chr  \"HU\" \"AA\" \"Wh\" \"HU\" ...\n",
      " $ RR_Star1   : chr  \"1.29219781944437\" \"1.30637096026034\" \"2.68573981216559\" \"1.87828496495005\" ...\n",
      " $ RR_Star2   : chr  \"1.29219781944437\" \"1.30637096026034\" \"2.01357901321476\" \"1.87828496495005\" ...\n",
      " $ AbsRisk    : chr  \"8.34373453177392\" \"8.18024335894378\" \"11.0343937962468\" \"12.3932230874193\" ...\n",
      " $ AbsRisk_Avg: chr  \"8.29937242992159\" \"8.40457067791831\" \"10.591055966167\" \"8.67047997535387\" ...\n",
      "'data.frame':\t1200 obs. of  15 variables:\n",
      " $ ID         : chr  \"561\" \"321\" \"1177\" \"1098\" ...\n",
      " $ T1         : chr  \"53\" \"53\" \"53\" \"51\" ...\n",
      " $ T2         : chr  \"90\" \"90\" \"90\" \"90\" ...\n",
      " $ Proj_Intvl : chr  \"37\" \"37\" \"37\" \"39\" ...\n",
      " $ N_Biop     : chr  \"1\" \"0\" \"1\" \"0\" ...\n",
      " $ HypPlas    : chr  \"0\" \"99\" \"0\" \"99\" ...\n",
      " $ AgeMen     : chr  \"13\" \"11\" \"12\" \"13\" ...\n",
      " $ Age1st     : chr  \"25\" \"22\" \"28\" \"40\" ...\n",
      " $ N_Rels     : chr  \"0\" \"0\" \"0\" \"3\" ...\n",
      " $ Race       : chr  \"3\" \"2\" \"1\" \"3\" ...\n",
      " $ CharRace   : chr  \"HU\" \"AA\" \"Wh\" \"HU\" ...\n",
      " $ RR_Star1   : chr  \"1.29219781944437\" \"1.30637096026034\" \"2.68573981216559\" \"1.87828496495005\" ...\n",
      " $ RR_Star2   : chr  \"1.29219781944437\" \"1.30637096026034\" \"2.01357901321476\" \"1.87828496495005\" ...\n",
      " $ AbsRisk    : num  8.34 8.18 11.03 12.39 14.17 ...\n",
      " $ AbsRisk_Avg: chr  \"8.29937242992159\" \"8.40457067791831\" \"10.591055966167\" \"8.67047997535387\" ...\n"
     ]
    }
   ],
   "source": [
    "source('./ML_BCP/code/BCRAT prediction for Simulated data_w_NA_and_multiple_imputation.R')"
   ]
  },
  {
   "cell_type": "code",
   "execution_count": null,
   "id": "155c63de",
   "metadata": {},
   "outputs": [],
   "source": []
  },
  {
   "cell_type": "code",
   "execution_count": null,
   "id": "80079a00",
   "metadata": {},
   "outputs": [],
   "source": []
  },
  {
   "cell_type": "code",
   "execution_count": null,
   "id": "96ccc779",
   "metadata": {},
   "outputs": [],
   "source": []
  },
  {
   "cell_type": "code",
   "execution_count": null,
   "id": "65976c54",
   "metadata": {},
   "outputs": [],
   "source": []
  }
 ],
 "metadata": {
  "kernelspec": {
   "display_name": "R",
   "language": "R",
   "name": "ir"
  },
  "language_info": {
   "codemirror_mode": "r",
   "file_extension": ".r",
   "mimetype": "text/x-r-source",
   "name": "R",
   "pygments_lexer": "r",
   "version": "4.1.3"
  }
 },
 "nbformat": 4,
 "nbformat_minor": 5
}
