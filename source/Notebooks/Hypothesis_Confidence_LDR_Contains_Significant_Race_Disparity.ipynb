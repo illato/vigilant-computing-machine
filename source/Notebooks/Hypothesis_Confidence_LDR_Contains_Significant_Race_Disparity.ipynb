{
 "cells": [
  {
   "cell_type": "markdown",
   "id": "196cd034",
   "metadata": {},
   "source": [
    "# Contents\n",
    "\n",
    "----\n",
    "\n",
    "----\n",
    "\n",
    "__This notebook investigates the dataset derived from `Ming et al.` (race-cancer correlation 0.025). Inductive Conformal Predictors are applied to underlying classifiers: `ADA`, `RF`, `LR`, and `KNN`.__\n",
    "\n",
    "$H_0$ = There is no difference in the proportion of `Race` in the Lower Decile Range of predictions, based on confidence/credibility, compared to the population sample.\n",
    "\n",
    "$H_a$ = There is a difference in the proportion of `Race` in the Lower Decile Range of predictions, based on confidence/credibility, compared to the population sample.\n",
    "\n",
    "----"
   ]
  },
  {
   "cell_type": "code",
   "execution_count": 1,
   "id": "73a97166",
   "metadata": {},
   "outputs": [],
   "source": [
    "import os\n",
    "\n",
    "# set pwd to root of repository\n",
    "repo_root = 'C:/Users/Bob/CHPC/conformal_prediction/vigilant-computing-machine/'\n",
    "#repo_root = '/uufs/chpc.utah.edu/common/home/u0740821/conformal_prediction/vigilant-computing-machine'\n",
    "\n",
    "os.chdir(repo_root)"
   ]
  },
  {
   "cell_type": "code",
   "execution_count": 2,
   "id": "3283a50f",
   "metadata": {},
   "outputs": [],
   "source": [
    "# 'vigilant-computing-machine/source/util.py'\n",
    "import source.util as util\n",
    "\n",
    "import numpy as np\n",
    "import pandas as pd\n",
    "import matplotlib.pyplot as plt\n",
    "\n",
    "from scipy import stats\n",
    "\n",
    "import Orange\n",
    "from Orange.distance import Euclidean\n",
    "import orangecontrib.conformal as cp"
   ]
  },
  {
   "cell_type": "markdown",
   "id": "ddb99fb1",
   "metadata": {
    "tags": []
   },
   "source": [
    "# read in data"
   ]
  },
  {
   "cell_type": "code",
   "execution_count": 3,
   "id": "4b5413e6",
   "metadata": {},
   "outputs": [],
   "source": [
    "normalizer = Orange.preprocess.Normalizer(norm_type = Orange.preprocess.Normalize.NormalizeBySD)\n",
    "tab_signal = normalizer(Orange.data.Table('./data/signal_with_header_for_orange.csv'))"
   ]
  },
  {
   "cell_type": "markdown",
   "id": "8fff804c-4be4-4114-9672-803a4c707eaa",
   "metadata": {},
   "source": [
    "----\n",
    "Get `Race` distribution in population sample"
   ]
  },
  {
   "cell_type": "code",
   "execution_count": 4,
   "id": "4cc8f0d7-43b5-49d9-9385-cfe9158c853f",
   "metadata": {},
   "outputs": [
    {
     "data": {
      "text/plain": [
       "[T1, N_Biop, HypPlas, AgeMen, Age1st, N_Rels, Race | Case_signalYN]"
      ]
     },
     "execution_count": 4,
     "metadata": {},
     "output_type": "execute_result"
    }
   ],
   "source": [
    "tab_signal.domain"
   ]
  },
  {
   "cell_type": "code",
   "execution_count": 38,
   "id": "043a7544-972a-422d-b4f5-8eaa48092bc9",
   "metadata": {},
   "outputs": [
    {
     "data": {
      "text/html": [
       "<div>\n",
       "<style scoped>\n",
       "    .dataframe tbody tr th:only-of-type {\n",
       "        vertical-align: middle;\n",
       "    }\n",
       "\n",
       "    .dataframe tbody tr th {\n",
       "        vertical-align: top;\n",
       "    }\n",
       "\n",
       "    .dataframe thead th {\n",
       "        text-align: right;\n",
       "    }\n",
       "</style>\n",
       "<table border=\"1\" class=\"dataframe\">\n",
       "  <thead>\n",
       "    <tr style=\"text-align: right;\">\n",
       "      <th></th>\n",
       "      <th>prevalence</th>\n",
       "      <th>prevalence_n</th>\n",
       "    </tr>\n",
       "    <tr>\n",
       "      <th>race</th>\n",
       "      <th></th>\n",
       "      <th></th>\n",
       "    </tr>\n",
       "  </thead>\n",
       "  <tbody>\n",
       "    <tr>\n",
       "      <th>0</th>\n",
       "      <td>0.490833</td>\n",
       "      <td>589</td>\n",
       "    </tr>\n",
       "    <tr>\n",
       "      <th>1</th>\n",
       "      <td>0.195000</td>\n",
       "      <td>234</td>\n",
       "    </tr>\n",
       "    <tr>\n",
       "      <th>2</th>\n",
       "      <td>0.216667</td>\n",
       "      <td>260</td>\n",
       "    </tr>\n",
       "    <tr>\n",
       "      <th>3</th>\n",
       "      <td>0.078333</td>\n",
       "      <td>94</td>\n",
       "    </tr>\n",
       "    <tr>\n",
       "      <th>4</th>\n",
       "      <td>0.014167</td>\n",
       "      <td>17</td>\n",
       "    </tr>\n",
       "    <tr>\n",
       "      <th>5</th>\n",
       "      <td>0.003333</td>\n",
       "      <td>4</td>\n",
       "    </tr>\n",
       "    <tr>\n",
       "      <th>6</th>\n",
       "      <td>0.001667</td>\n",
       "      <td>2</td>\n",
       "    </tr>\n",
       "  </tbody>\n",
       "</table>\n",
       "</div>"
      ],
      "text/plain": [
       "      prevalence  prevalence_n\n",
       "race                          \n",
       "0       0.490833           589\n",
       "1       0.195000           234\n",
       "2       0.216667           260\n",
       "3       0.078333            94\n",
       "4       0.014167            17\n",
       "5       0.003333             4\n",
       "6       0.001667             2"
      ]
     },
     "execution_count": 38,
     "metadata": {},
     "output_type": "execute_result"
    }
   ],
   "source": [
    "df_race_signal = pd.DataFrame()\n",
    "df_race_signal['race'] = tab_signal.X[:,-1]\n",
    "df_race_signal['race'] = df_race_signal['race'].astype(int)\n",
    "df_race_signal_counts = df_race_signal.value_counts().sort_index()\n",
    "n_signal_race = df_race_signal_counts.values.sum()\n",
    "df_race_signal_prop = pd.DataFrame({'prevalence': df_race_signal_counts / n_signal_race,'prevalence_n': df_race_signal_counts})\n",
    "df_race_signal_prop"
   ]
  },
  {
   "cell_type": "markdown",
   "id": "59b99d1a",
   "metadata": {},
   "source": [
    "----"
   ]
  },
  {
   "cell_type": "code",
   "execution_count": null,
   "id": "4b5bab6c-ab0b-4e52-8c20-8640ad6ec75f",
   "metadata": {},
   "outputs": [],
   "source": []
  },
  {
   "cell_type": "code",
   "execution_count": null,
   "id": "0e7c2dfc-5edb-4698-a177-27a4f1f94eae",
   "metadata": {},
   "outputs": [],
   "source": []
  },
  {
   "cell_type": "code",
   "execution_count": null,
   "id": "1846c99e-20e2-4dc9-826b-1407c125e4a0",
   "metadata": {},
   "outputs": [],
   "source": []
  },
  {
   "cell_type": "code",
   "execution_count": 6,
   "id": "af16565f-45c8-4c46-b5f3-447a5b718dfc",
   "metadata": {},
   "outputs": [],
   "source": [
    "np.random.seed(42)\n",
    "\n",
    "\n",
    "train, test = next(cp.evaluation.RandomSampler(tab_signal,2,1))\n",
    "train, calibrate = next(cp.evaluation.RandomSampler(train,2,1))\n",
    "\n",
    "cc=cp.classification.InductiveClassifier(\n",
    "    cp.nonconformity.InverseProbability(\n",
    "        Orange.classification.LogisticRegressionLearner()))\n",
    "\n",
    "experiment_logistic = util.run_experiments(cc, train, test, calibrate, times=1)"
   ]
  },
  {
   "cell_type": "code",
   "execution_count": 7,
   "id": "9e7bd264-2923-40b3-829b-f159f51ee8e4",
   "metadata": {},
   "outputs": [
    {
     "data": {
      "text/html": [
       "<div>\n",
       "<style scoped>\n",
       "    .dataframe tbody tr th:only-of-type {\n",
       "        vertical-align: middle;\n",
       "    }\n",
       "\n",
       "    .dataframe tbody tr th {\n",
       "        vertical-align: top;\n",
       "    }\n",
       "\n",
       "    .dataframe thead th {\n",
       "        text-align: right;\n",
       "    }\n",
       "</style>\n",
       "<table border=\"1\" class=\"dataframe\">\n",
       "  <thead>\n",
       "    <tr style=\"text-align: right;\">\n",
       "      <th></th>\n",
       "      <th>confidence</th>\n",
       "      <th>credibility</th>\n",
       "      <th>verdict</th>\n",
       "      <th>empty</th>\n",
       "      <th>single</th>\n",
       "      <th>single_correct</th>\n",
       "      <th>multiple</th>\n",
       "      <th>data</th>\n",
       "      <th>mondrian</th>\n",
       "      <th>classifier</th>\n",
       "      <th>conformal_predictor</th>\n",
       "      <th>nonconformity</th>\n",
       "      <th>method</th>\n",
       "      <th>model</th>\n",
       "      <th>instance_of_model</th>\n",
       "      <th>df</th>\n",
       "    </tr>\n",
       "  </thead>\n",
       "  <tbody>\n",
       "    <tr>\n",
       "      <th>0</th>\n",
       "      <td>0.986101</td>\n",
       "      <td>0.497341</td>\n",
       "      <td>0.935</td>\n",
       "      <td>0.0</td>\n",
       "      <td>1.0</td>\n",
       "      <td>0.935</td>\n",
       "      <td>0.0</td>\n",
       "      <td>signal_with_header_for_orange</td>\n",
       "      <td>False</td>\n",
       "      <td>logistic regression</td>\n",
       "      <td>InductiveClassifier (InverseProbability (logis...</td>\n",
       "      <td>InverseProbability (logistic regression)</td>\n",
       "      <td></td>\n",
       "      <td>LogisticRegressionClassifier(skl_model=Logisti...</td>\n",
       "      <td>InductiveClassifier (InverseProbability (logis...</td>\n",
       "      <td>classes  confidence  credibility  eps  \\\n",
       "0...</td>\n",
       "    </tr>\n",
       "  </tbody>\n",
       "</table>\n",
       "</div>"
      ],
      "text/plain": [
       "  confidence credibility verdict empty single single_correct multiple  \\\n",
       "0   0.986101    0.497341   0.935   0.0    1.0          0.935      0.0   \n",
       "\n",
       "                            data mondrian           classifier  \\\n",
       "0  signal_with_header_for_orange    False  logistic regression   \n",
       "\n",
       "                                 conformal_predictor  \\\n",
       "0  InductiveClassifier (InverseProbability (logis...   \n",
       "\n",
       "                              nonconformity method  \\\n",
       "0  InverseProbability (logistic regression)          \n",
       "\n",
       "                                               model  \\\n",
       "0  LogisticRegressionClassifier(skl_model=Logisti...   \n",
       "\n",
       "                                   instance_of_model  \\\n",
       "0  InductiveClassifier (InverseProbability (logis...   \n",
       "\n",
       "                                                  df  \n",
       "0      classes  confidence  credibility  eps  \\\n",
       "0...  "
      ]
     },
     "execution_count": 7,
     "metadata": {},
     "output_type": "execute_result"
    }
   ],
   "source": [
    "experiment_logistic"
   ]
  },
  {
   "cell_type": "code",
   "execution_count": 8,
   "id": "89bc17ba-3e0a-46bb-b9be-6f052ed9d8aa",
   "metadata": {},
   "outputs": [
    {
     "data": {
      "text/html": [
       "<div>\n",
       "<style scoped>\n",
       "    .dataframe tbody tr th:only-of-type {\n",
       "        vertical-align: middle;\n",
       "    }\n",
       "\n",
       "    .dataframe tbody tr th {\n",
       "        vertical-align: top;\n",
       "    }\n",
       "\n",
       "    .dataframe thead th {\n",
       "        text-align: right;\n",
       "    }\n",
       "</style>\n",
       "<table border=\"1\" class=\"dataframe\">\n",
       "  <thead>\n",
       "    <tr style=\"text-align: right;\">\n",
       "      <th></th>\n",
       "      <th>confidence</th>\n",
       "      <th>credibility</th>\n",
       "      <th>verdict</th>\n",
       "      <th>empty</th>\n",
       "      <th>single</th>\n",
       "      <th>single_correct</th>\n",
       "      <th>multiple</th>\n",
       "      <th>data</th>\n",
       "      <th>mondrian</th>\n",
       "      <th>classifier</th>\n",
       "      <th>conformal_predictor</th>\n",
       "      <th>nonconformity</th>\n",
       "      <th>method</th>\n",
       "      <th>model</th>\n",
       "      <th>instance_of_model</th>\n",
       "      <th>df</th>\n",
       "    </tr>\n",
       "  </thead>\n",
       "  <tbody>\n",
       "    <tr>\n",
       "      <th>0</th>\n",
       "      <td>0.986101</td>\n",
       "      <td>0.497341</td>\n",
       "      <td>0.935</td>\n",
       "      <td>0.0</td>\n",
       "      <td>1.0</td>\n",
       "      <td>0.935</td>\n",
       "      <td>0.0</td>\n",
       "      <td>signal_with_header_for_orange</td>\n",
       "      <td>False</td>\n",
       "      <td>logistic regression</td>\n",
       "      <td>InductiveClassifier (InverseProbability (logis...</td>\n",
       "      <td>InverseProbability (logistic regression)</td>\n",
       "      <td></td>\n",
       "      <td>LogisticRegressionClassifier(skl_model=Logisti...</td>\n",
       "      <td>InductiveClassifier (InverseProbability (logis...</td>\n",
       "      <td>classes  confidence  credibility  eps  \\\n",
       "0...</td>\n",
       "    </tr>\n",
       "  </tbody>\n",
       "</table>\n",
       "</div>"
      ],
      "text/plain": [
       "  confidence credibility verdict empty single single_correct multiple  \\\n",
       "0   0.986101    0.497341   0.935   0.0    1.0          0.935      0.0   \n",
       "\n",
       "                            data mondrian           classifier  \\\n",
       "0  signal_with_header_for_orange    False  logistic regression   \n",
       "\n",
       "                                 conformal_predictor  \\\n",
       "0  InductiveClassifier (InverseProbability (logis...   \n",
       "\n",
       "                              nonconformity method  \\\n",
       "0  InverseProbability (logistic regression)          \n",
       "\n",
       "                                               model  \\\n",
       "0  LogisticRegressionClassifier(skl_model=Logisti...   \n",
       "\n",
       "                                   instance_of_model  \\\n",
       "0  InductiveClassifier (InverseProbability (logis...   \n",
       "\n",
       "                                                  df  \n",
       "0      classes  confidence  credibility  eps  \\\n",
       "0...  "
      ]
     },
     "execution_count": 8,
     "metadata": {},
     "output_type": "execute_result"
    },
    {
     "data": {
      "image/png": "[encoded data removed]",
      "text/plain": [
       "<Figure size 432x288 with 1 Axes>"
      ]
     },
     "metadata": {
      "needs_background": "light"
     },
     "output_type": "display_data"
    }
   ],
   "source": [
    "util.plot_experiments(experiment_logistic)\n",
    "experiment_logistic"
   ]
  },
  {
   "cell_type": "code",
   "execution_count": null,
   "id": "481d1afa-f53b-4c4f-a7d8-79841f4b3c35",
   "metadata": {},
   "outputs": [],
   "source": []
  },
  {
   "cell_type": "code",
   "execution_count": 9,
   "id": "32a78ffb-999a-4911-abe3-c76bba3c10ce",
   "metadata": {},
   "outputs": [
    {
     "data": {
      "text/html": [
       "<div>\n",
       "<style scoped>\n",
       "    .dataframe tbody tr th:only-of-type {\n",
       "        vertical-align: middle;\n",
       "    }\n",
       "\n",
       "    .dataframe tbody tr th {\n",
       "        vertical-align: top;\n",
       "    }\n",
       "\n",
       "    .dataframe thead th {\n",
       "        text-align: right;\n",
       "    }\n",
       "</style>\n",
       "<table border=\"1\" class=\"dataframe\">\n",
       "  <thead>\n",
       "    <tr style=\"text-align: right;\">\n",
       "      <th></th>\n",
       "      <th>classes</th>\n",
       "      <th>confidence</th>\n",
       "      <th>credibility</th>\n",
       "      <th>eps</th>\n",
       "      <th>p</th>\n",
       "      <th>verdict</th>\n",
       "      <th>T1</th>\n",
       "      <th>N_Biop</th>\n",
       "      <th>HypPlas</th>\n",
       "      <th>AgeMen</th>\n",
       "      <th>Age1st</th>\n",
       "      <th>N_Rels</th>\n",
       "      <th>Race</th>\n",
       "      <th>class</th>\n",
       "    </tr>\n",
       "  </thead>\n",
       "  <tbody>\n",
       "    <tr>\n",
       "      <th>0</th>\n",
       "      <td>[1]</td>\n",
       "      <td>0.992537</td>\n",
       "      <td>0.335821</td>\n",
       "      <td>0.1</td>\n",
       "      <td>[(0.007462686567164179, 0), (0.335820895522388...</td>\n",
       "      <td>True</td>\n",
       "      <td>0.482929</td>\n",
       "      <td>0</td>\n",
       "      <td>2</td>\n",
       "      <td>-0.440587</td>\n",
       "      <td>-0.474771</td>\n",
       "      <td>2</td>\n",
       "      <td>0</td>\n",
       "      <td>1</td>\n",
       "    </tr>\n",
       "    <tr>\n",
       "      <th>1</th>\n",
       "      <td>[0]</td>\n",
       "      <td>0.996269</td>\n",
       "      <td>0.626866</td>\n",
       "      <td>0.1</td>\n",
       "      <td>[(0.6268656716417911, 0), (0.00373134328358208...</td>\n",
       "      <td>True</td>\n",
       "      <td>-0.712357</td>\n",
       "      <td>0</td>\n",
       "      <td>2</td>\n",
       "      <td>-0.440587</td>\n",
       "      <td>2.040345</td>\n",
       "      <td>0</td>\n",
       "      <td>1</td>\n",
       "      <td>0</td>\n",
       "    </tr>\n",
       "    <tr>\n",
       "      <th>2</th>\n",
       "      <td>[1]</td>\n",
       "      <td>0.951493</td>\n",
       "      <td>0.130597</td>\n",
       "      <td>0.1</td>\n",
       "      <td>[(0.048507462686567165, 0), (0.130597014925373...</td>\n",
       "      <td>False</td>\n",
       "      <td>-0.114714</td>\n",
       "      <td>1</td>\n",
       "      <td>1</td>\n",
       "      <td>0.517210</td>\n",
       "      <td>-0.509225</td>\n",
       "      <td>0</td>\n",
       "      <td>0</td>\n",
       "      <td>0</td>\n",
       "    </tr>\n",
       "  </tbody>\n",
       "</table>\n",
       "</div>"
      ],
      "text/plain": [
       "  classes  confidence  credibility  eps  \\\n",
       "0     [1]    0.992537     0.335821  0.1   \n",
       "1     [0]    0.996269     0.626866  0.1   \n",
       "2     [1]    0.951493     0.130597  0.1   \n",
       "\n",
       "                                                   p  verdict        T1  \\\n",
       "0  [(0.007462686567164179, 0), (0.335820895522388...     True  0.482929   \n",
       "1  [(0.6268656716417911, 0), (0.00373134328358208...     True -0.712357   \n",
       "2  [(0.048507462686567165, 0), (0.130597014925373...    False -0.114714   \n",
       "\n",
       "   N_Biop  HypPlas    AgeMen    Age1st  N_Rels  Race  class  \n",
       "0       0        2 -0.440587 -0.474771       2     0      1  \n",
       "1       0        2 -0.440587  2.040345       0     1      0  \n",
       "2       1        1  0.517210 -0.509225       0     0      0  "
      ]
     },
     "execution_count": 9,
     "metadata": {},
     "output_type": "execute_result"
    }
   ],
   "source": [
    "df_cpred_logistic = experiment_logistic.loc[0, 'df']\n",
    "df_cpred_logistic.head(3)"
   ]
  },
  {
   "cell_type": "code",
   "execution_count": 10,
   "id": "1c6da34e-2eee-499f-841f-8d0f4843a619",
   "metadata": {},
   "outputs": [
    {
     "data": {
      "text/html": [
       "<div>\n",
       "<style scoped>\n",
       "    .dataframe tbody tr th:only-of-type {\n",
       "        vertical-align: middle;\n",
       "    }\n",
       "\n",
       "    .dataframe tbody tr th {\n",
       "        vertical-align: top;\n",
       "    }\n",
       "\n",
       "    .dataframe thead th {\n",
       "        text-align: right;\n",
       "    }\n",
       "</style>\n",
       "<table border=\"1\" class=\"dataframe\">\n",
       "  <thead>\n",
       "    <tr style=\"text-align: right;\">\n",
       "      <th></th>\n",
       "      <th>classes</th>\n",
       "      <th>confidence</th>\n",
       "      <th>credibility</th>\n",
       "      <th>eps</th>\n",
       "      <th>p</th>\n",
       "      <th>verdict</th>\n",
       "      <th>T1</th>\n",
       "      <th>N_Biop</th>\n",
       "      <th>HypPlas</th>\n",
       "      <th>AgeMen</th>\n",
       "      <th>Age1st</th>\n",
       "      <th>N_Rels</th>\n",
       "      <th>Race</th>\n",
       "      <th>class</th>\n",
       "    </tr>\n",
       "  </thead>\n",
       "  <tbody>\n",
       "    <tr>\n",
       "      <th>0</th>\n",
       "      <td>[0]</td>\n",
       "      <td>0.996269</td>\n",
       "      <td>0.996269</td>\n",
       "      <td>0.1</td>\n",
       "      <td>[(0.996268656716418, 0), (0.003731343283582089...</td>\n",
       "      <td>True</td>\n",
       "      <td>-2.903715</td>\n",
       "      <td>0</td>\n",
       "      <td>2</td>\n",
       "      <td>0.51721</td>\n",
       "      <td>-0.543679</td>\n",
       "      <td>0</td>\n",
       "      <td>0</td>\n",
       "      <td>0</td>\n",
       "    </tr>\n",
       "    <tr>\n",
       "      <th>1</th>\n",
       "      <td>[1]</td>\n",
       "      <td>0.996269</td>\n",
       "      <td>0.992537</td>\n",
       "      <td>0.1</td>\n",
       "      <td>[(0.0037313432835820895, 0), (0.99253731343283...</td>\n",
       "      <td>True</td>\n",
       "      <td>2.674286</td>\n",
       "      <td>0</td>\n",
       "      <td>2</td>\n",
       "      <td>0.51721</td>\n",
       "      <td>-0.440318</td>\n",
       "      <td>0</td>\n",
       "      <td>2</td>\n",
       "      <td>1</td>\n",
       "    </tr>\n",
       "    <tr>\n",
       "      <th>2</th>\n",
       "      <td>[1]</td>\n",
       "      <td>0.996269</td>\n",
       "      <td>0.988806</td>\n",
       "      <td>0.1</td>\n",
       "      <td>[(0.0037313432835820895, 0), (0.98880597014925...</td>\n",
       "      <td>True</td>\n",
       "      <td>2.674286</td>\n",
       "      <td>0</td>\n",
       "      <td>2</td>\n",
       "      <td>0.51721</td>\n",
       "      <td>2.040345</td>\n",
       "      <td>0</td>\n",
       "      <td>0</td>\n",
       "      <td>1</td>\n",
       "    </tr>\n",
       "  </tbody>\n",
       "</table>\n",
       "</div>"
      ],
      "text/plain": [
       "  classes  confidence  credibility  eps  \\\n",
       "0     [0]    0.996269     0.996269  0.1   \n",
       "1     [1]    0.996269     0.992537  0.1   \n",
       "2     [1]    0.996269     0.988806  0.1   \n",
       "\n",
       "                                                   p  verdict        T1  \\\n",
       "0  [(0.996268656716418, 0), (0.003731343283582089...     True -2.903715   \n",
       "1  [(0.0037313432835820895, 0), (0.99253731343283...     True  2.674286   \n",
       "2  [(0.0037313432835820895, 0), (0.98880597014925...     True  2.674286   \n",
       "\n",
       "   N_Biop  HypPlas   AgeMen    Age1st  N_Rels  Race  class  \n",
       "0       0        2  0.51721 -0.543679       0     0      0  \n",
       "1       0        2  0.51721 -0.440318       0     2      1  \n",
       "2       0        2  0.51721  2.040345       0     0      1  "
      ]
     },
     "execution_count": 10,
     "metadata": {},
     "output_type": "execute_result"
    }
   ],
   "source": [
    "df_cpred_logistic_sorted = util.sort_reindex(df_cpred_logistic, col=['confidence','credibility'])\n",
    "df_cpred_logistic_sorted.head(3)"
   ]
  },
  {
   "cell_type": "markdown",
   "id": "4dff10df-5d58-4e78-8809-47fb0722af25",
   "metadata": {},
   "source": [
    "----\n",
    "Get decile index"
   ]
  },
  {
   "cell_type": "code",
   "execution_count": 11,
   "id": "4abaf9ae-7ee4-4185-9020-a829c49c4325",
   "metadata": {},
   "outputs": [
    {
     "data": {
      "text/plain": [
       "40"
      ]
     },
     "execution_count": 11,
     "metadata": {},
     "output_type": "execute_result"
    }
   ],
   "source": [
    "ld_idx = int(len(df_cpred_logistic_sorted.index.values) / 10)\n",
    "ld_idx"
   ]
  },
  {
   "cell_type": "markdown",
   "id": "ea4a798c-7bf7-434f-91e1-a2b142b0a3c0",
   "metadata": {},
   "source": [
    "---\n",
    "Get Lower Decile Range (LDR) - lowest 10th percentile `confidence`/`credibility`"
   ]
  },
  {
   "cell_type": "code",
   "execution_count": 12,
   "id": "615c47ae-8f74-43e9-9699-6137733b6f45",
   "metadata": {},
   "outputs": [
    {
     "data": {
      "text/html": [
       "<div>\n",
       "<style scoped>\n",
       "    .dataframe tbody tr th:only-of-type {\n",
       "        vertical-align: middle;\n",
       "    }\n",
       "\n",
       "    .dataframe tbody tr th {\n",
       "        vertical-align: top;\n",
       "    }\n",
       "\n",
       "    .dataframe thead th {\n",
       "        text-align: right;\n",
       "    }\n",
       "</style>\n",
       "<table border=\"1\" class=\"dataframe\">\n",
       "  <thead>\n",
       "    <tr style=\"text-align: right;\">\n",
       "      <th></th>\n",
       "      <th>classes</th>\n",
       "      <th>confidence</th>\n",
       "      <th>credibility</th>\n",
       "      <th>eps</th>\n",
       "      <th>p</th>\n",
       "      <th>verdict</th>\n",
       "      <th>T1</th>\n",
       "      <th>N_Biop</th>\n",
       "      <th>HypPlas</th>\n",
       "      <th>AgeMen</th>\n",
       "      <th>Age1st</th>\n",
       "      <th>N_Rels</th>\n",
       "      <th>Race</th>\n",
       "      <th>class</th>\n",
       "    </tr>\n",
       "  </thead>\n",
       "  <tbody>\n",
       "    <tr>\n",
       "      <th>360</th>\n",
       "      <td>[0]</td>\n",
       "      <td>0.951493</td>\n",
       "      <td>0.134328</td>\n",
       "      <td>0.1</td>\n",
       "      <td>[(0.13432835820895522, 0), (0.0485074626865671...</td>\n",
       "      <td>True</td>\n",
       "      <td>-0.114714</td>\n",
       "      <td>0</td>\n",
       "      <td>2</td>\n",
       "      <td>1.475007</td>\n",
       "      <td>2.040345</td>\n",
       "      <td>1</td>\n",
       "      <td>0</td>\n",
       "      <td>0</td>\n",
       "    </tr>\n",
       "    <tr>\n",
       "      <th>361</th>\n",
       "      <td>[1]</td>\n",
       "      <td>0.951493</td>\n",
       "      <td>0.130597</td>\n",
       "      <td>0.1</td>\n",
       "      <td>[(0.048507462686567165, 0), (0.130597014925373...</td>\n",
       "      <td>False</td>\n",
       "      <td>-0.114714</td>\n",
       "      <td>1</td>\n",
       "      <td>1</td>\n",
       "      <td>0.517210</td>\n",
       "      <td>-0.509225</td>\n",
       "      <td>0</td>\n",
       "      <td>0</td>\n",
       "      <td>0</td>\n",
       "    </tr>\n",
       "    <tr>\n",
       "      <th>362</th>\n",
       "      <td>[0]</td>\n",
       "      <td>0.951493</td>\n",
       "      <td>0.119403</td>\n",
       "      <td>0.1</td>\n",
       "      <td>[(0.11940298507462686, 0), (0.0485074626865671...</td>\n",
       "      <td>False</td>\n",
       "      <td>0.084500</td>\n",
       "      <td>0</td>\n",
       "      <td>2</td>\n",
       "      <td>-1.398384</td>\n",
       "      <td>-0.509225</td>\n",
       "      <td>0</td>\n",
       "      <td>0</td>\n",
       "      <td>1</td>\n",
       "    </tr>\n",
       "  </tbody>\n",
       "</table>\n",
       "</div>"
      ],
      "text/plain": [
       "    classes  confidence  credibility  eps  \\\n",
       "360     [0]    0.951493     0.134328  0.1   \n",
       "361     [1]    0.951493     0.130597  0.1   \n",
       "362     [0]    0.951493     0.119403  0.1   \n",
       "\n",
       "                                                     p  verdict        T1  \\\n",
       "360  [(0.13432835820895522, 0), (0.0485074626865671...     True -0.114714   \n",
       "361  [(0.048507462686567165, 0), (0.130597014925373...    False -0.114714   \n",
       "362  [(0.11940298507462686, 0), (0.0485074626865671...    False  0.084500   \n",
       "\n",
       "     N_Biop  HypPlas    AgeMen    Age1st  N_Rels  Race  class  \n",
       "360       0        2  1.475007  2.040345       1     0      0  \n",
       "361       1        1  0.517210 -0.509225       0     0      0  \n",
       "362       0        2 -1.398384 -0.509225       0     0      1  "
      ]
     },
     "execution_count": 12,
     "metadata": {},
     "output_type": "execute_result"
    }
   ],
   "source": [
    "df_cpred_logistic_ldr = df_cpred_logistic_sorted.iloc[-ld_idx:,:]\n",
    "df_cpred_logistic_ldr.head(3)"
   ]
  },
  {
   "cell_type": "code",
   "execution_count": 13,
   "id": "df27c73b-a0f2-4ecb-afbb-f6b8ef72feb5",
   "metadata": {},
   "outputs": [
    {
     "data": {
      "text/html": [
       "<div>\n",
       "<style scoped>\n",
       "    .dataframe tbody tr th:only-of-type {\n",
       "        vertical-align: middle;\n",
       "    }\n",
       "\n",
       "    .dataframe tbody tr th {\n",
       "        vertical-align: top;\n",
       "    }\n",
       "\n",
       "    .dataframe thead th {\n",
       "        text-align: right;\n",
       "    }\n",
       "</style>\n",
       "<table border=\"1\" class=\"dataframe\">\n",
       "  <thead>\n",
       "    <tr style=\"text-align: right;\">\n",
       "      <th></th>\n",
       "      <th>classes</th>\n",
       "      <th>confidence</th>\n",
       "      <th>credibility</th>\n",
       "      <th>eps</th>\n",
       "      <th>p</th>\n",
       "      <th>verdict</th>\n",
       "      <th>T1</th>\n",
       "      <th>N_Biop</th>\n",
       "      <th>HypPlas</th>\n",
       "      <th>AgeMen</th>\n",
       "      <th>Age1st</th>\n",
       "      <th>N_Rels</th>\n",
       "      <th>Race</th>\n",
       "      <th>class</th>\n",
       "    </tr>\n",
       "  </thead>\n",
       "  <tbody>\n",
       "    <tr>\n",
       "      <th>397</th>\n",
       "      <td>[0]</td>\n",
       "      <td>0.902985</td>\n",
       "      <td>0.100746</td>\n",
       "      <td>0.1</td>\n",
       "      <td>[(0.10074626865671642, 0), (0.0970149253731343...</td>\n",
       "      <td>False</td>\n",
       "      <td>-0.114714</td>\n",
       "      <td>0</td>\n",
       "      <td>2</td>\n",
       "      <td>0.51721</td>\n",
       "      <td>-0.543679</td>\n",
       "      <td>3</td>\n",
       "      <td>2</td>\n",
       "      <td>1</td>\n",
       "    </tr>\n",
       "    <tr>\n",
       "      <th>398</th>\n",
       "      <td>[0]</td>\n",
       "      <td>0.902985</td>\n",
       "      <td>0.100746</td>\n",
       "      <td>0.1</td>\n",
       "      <td>[(0.10074626865671642, 0), (0.0970149253731343...</td>\n",
       "      <td>True</td>\n",
       "      <td>0.084500</td>\n",
       "      <td>0</td>\n",
       "      <td>2</td>\n",
       "      <td>0.51721</td>\n",
       "      <td>-0.543679</td>\n",
       "      <td>0</td>\n",
       "      <td>0</td>\n",
       "      <td>0</td>\n",
       "    </tr>\n",
       "    <tr>\n",
       "      <th>399</th>\n",
       "      <td>[0]</td>\n",
       "      <td>0.902985</td>\n",
       "      <td>0.100746</td>\n",
       "      <td>0.1</td>\n",
       "      <td>[(0.10074626865671642, 0), (0.0970149253731343...</td>\n",
       "      <td>True</td>\n",
       "      <td>0.084500</td>\n",
       "      <td>0</td>\n",
       "      <td>2</td>\n",
       "      <td>0.51721</td>\n",
       "      <td>-0.543679</td>\n",
       "      <td>0</td>\n",
       "      <td>0</td>\n",
       "      <td>0</td>\n",
       "    </tr>\n",
       "  </tbody>\n",
       "</table>\n",
       "</div>"
      ],
      "text/plain": [
       "    classes  confidence  credibility  eps  \\\n",
       "397     [0]    0.902985     0.100746  0.1   \n",
       "398     [0]    0.902985     0.100746  0.1   \n",
       "399     [0]    0.902985     0.100746  0.1   \n",
       "\n",
       "                                                     p  verdict        T1  \\\n",
       "397  [(0.10074626865671642, 0), (0.0970149253731343...    False -0.114714   \n",
       "398  [(0.10074626865671642, 0), (0.0970149253731343...     True  0.084500   \n",
       "399  [(0.10074626865671642, 0), (0.0970149253731343...     True  0.084500   \n",
       "\n",
       "     N_Biop  HypPlas   AgeMen    Age1st  N_Rels  Race  class  \n",
       "397       0        2  0.51721 -0.543679       3     2      1  \n",
       "398       0        2  0.51721 -0.543679       0     0      0  \n",
       "399       0        2  0.51721 -0.543679       0     0      0  "
      ]
     },
     "execution_count": 13,
     "metadata": {},
     "output_type": "execute_result"
    }
   ],
   "source": [
    "df_cpred_logistic_ldr.tail(3)"
   ]
  },
  {
   "cell_type": "markdown",
   "id": "7112fa78-afc9-49a2-a072-64c2ffa5e35c",
   "metadata": {},
   "source": [
    "----\n",
    "Get `Race` distribution in 10% lowest confidence region"
   ]
  },
  {
   "cell_type": "code",
   "execution_count": 14,
   "id": "d02cc4c9-e3d1-4575-8c4a-fd8fe4e6bac5",
   "metadata": {},
   "outputs": [
    {
     "data": {
      "text/plain": [
       "0    22\n",
       "1     8\n",
       "2     7\n",
       "3     3\n",
       "Name: Race, dtype: int64"
      ]
     },
     "execution_count": 14,
     "metadata": {},
     "output_type": "execute_result"
    }
   ],
   "source": [
    "logistic_ldr_race_counts = df_cpred_logistic_ldr.Race.value_counts().sort_index()\n",
    "logistic_ldr_race_counts"
   ]
  },
  {
   "cell_type": "markdown",
   "id": "dabda171-df91-4b9f-a9a5-7e712a79ab27",
   "metadata": {},
   "source": [
    "----\n",
    "Normalize"
   ]
  },
  {
   "cell_type": "code",
   "execution_count": 37,
   "id": "9d096985-af0e-4d6f-868e-28b25426bebc",
   "metadata": {},
   "outputs": [
    {
     "data": {
      "text/html": [
       "<div>\n",
       "<style scoped>\n",
       "    .dataframe tbody tr th:only-of-type {\n",
       "        vertical-align: middle;\n",
       "    }\n",
       "\n",
       "    .dataframe tbody tr th {\n",
       "        vertical-align: top;\n",
       "    }\n",
       "\n",
       "    .dataframe thead th {\n",
       "        text-align: right;\n",
       "    }\n",
       "</style>\n",
       "<table border=\"1\" class=\"dataframe\">\n",
       "  <thead>\n",
       "    <tr style=\"text-align: right;\">\n",
       "      <th></th>\n",
       "      <th>low_confidence</th>\n",
       "      <th>low_confidence_n</th>\n",
       "    </tr>\n",
       "  </thead>\n",
       "  <tbody>\n",
       "    <tr>\n",
       "      <th>0</th>\n",
       "      <td>0.550</td>\n",
       "      <td>22</td>\n",
       "    </tr>\n",
       "    <tr>\n",
       "      <th>1</th>\n",
       "      <td>0.200</td>\n",
       "      <td>8</td>\n",
       "    </tr>\n",
       "    <tr>\n",
       "      <th>2</th>\n",
       "      <td>0.175</td>\n",
       "      <td>7</td>\n",
       "    </tr>\n",
       "    <tr>\n",
       "      <th>3</th>\n",
       "      <td>0.075</td>\n",
       "      <td>3</td>\n",
       "    </tr>\n",
       "  </tbody>\n",
       "</table>\n",
       "</div>"
      ],
      "text/plain": [
       "   low_confidence  low_confidence_n\n",
       "0           0.550                22\n",
       "1           0.200                 8\n",
       "2           0.175                 7\n",
       "3           0.075                 3"
      ]
     },
     "execution_count": 37,
     "metadata": {},
     "output_type": "execute_result"
    }
   ],
   "source": [
    "n_logistic_ldr_race = logistic_ldr_race_counts.values.sum()\n",
    "logistic_ldr_race_prop = pd.DataFrame({'low_confidence': logistic_ldr_race_counts / n_logistic_ldr_race, \n",
    "                                       'low_confidence_n': logistic_ldr_race_counts})\n",
    "logistic_ldr_race_prop"
   ]
  },
  {
   "cell_type": "markdown",
   "id": "75d6b163-d155-4558-b915-b514ed633bf9",
   "metadata": {},
   "source": [
    "----\n",
    "Combine"
   ]
  },
  {
   "cell_type": "code",
   "execution_count": 40,
   "id": "73696fe6-18b6-4a3f-a4c0-c115823b8503",
   "metadata": {},
   "outputs": [
    {
     "data": {
      "text/html": [
       "<div>\n",
       "<style scoped>\n",
       "    .dataframe tbody tr th:only-of-type {\n",
       "        vertical-align: middle;\n",
       "    }\n",
       "\n",
       "    .dataframe tbody tr th {\n",
       "        vertical-align: top;\n",
       "    }\n",
       "\n",
       "    .dataframe thead th {\n",
       "        text-align: right;\n",
       "    }\n",
       "</style>\n",
       "<table border=\"1\" class=\"dataframe\">\n",
       "  <thead>\n",
       "    <tr style=\"text-align: right;\">\n",
       "      <th></th>\n",
       "      <th>prevalence</th>\n",
       "      <th>prevalence_n</th>\n",
       "      <th>low_confidence</th>\n",
       "      <th>low_confidence_n</th>\n",
       "    </tr>\n",
       "    <tr>\n",
       "      <th>race</th>\n",
       "      <th></th>\n",
       "      <th></th>\n",
       "      <th></th>\n",
       "      <th></th>\n",
       "    </tr>\n",
       "  </thead>\n",
       "  <tbody>\n",
       "    <tr>\n",
       "      <th>0</th>\n",
       "      <td>0.490833</td>\n",
       "      <td>589</td>\n",
       "      <td>0.550</td>\n",
       "      <td>22</td>\n",
       "    </tr>\n",
       "    <tr>\n",
       "      <th>1</th>\n",
       "      <td>0.195000</td>\n",
       "      <td>234</td>\n",
       "      <td>0.200</td>\n",
       "      <td>8</td>\n",
       "    </tr>\n",
       "    <tr>\n",
       "      <th>2</th>\n",
       "      <td>0.216667</td>\n",
       "      <td>260</td>\n",
       "      <td>0.175</td>\n",
       "      <td>7</td>\n",
       "    </tr>\n",
       "    <tr>\n",
       "      <th>3</th>\n",
       "      <td>0.078333</td>\n",
       "      <td>94</td>\n",
       "      <td>0.075</td>\n",
       "      <td>3</td>\n",
       "    </tr>\n",
       "    <tr>\n",
       "      <th>4</th>\n",
       "      <td>0.014167</td>\n",
       "      <td>17</td>\n",
       "      <td>0.000</td>\n",
       "      <td>0</td>\n",
       "    </tr>\n",
       "    <tr>\n",
       "      <th>5</th>\n",
       "      <td>0.003333</td>\n",
       "      <td>4</td>\n",
       "      <td>0.000</td>\n",
       "      <td>0</td>\n",
       "    </tr>\n",
       "    <tr>\n",
       "      <th>6</th>\n",
       "      <td>0.001667</td>\n",
       "      <td>2</td>\n",
       "      <td>0.000</td>\n",
       "      <td>0</td>\n",
       "    </tr>\n",
       "  </tbody>\n",
       "</table>\n",
       "</div>"
      ],
      "text/plain": [
       "      prevalence  prevalence_n  low_confidence  low_confidence_n\n",
       "race                                                            \n",
       "0       0.490833           589           0.550                22\n",
       "1       0.195000           234           0.200                 8\n",
       "2       0.216667           260           0.175                 7\n",
       "3       0.078333            94           0.075                 3\n",
       "4       0.014167            17           0.000                 0\n",
       "5       0.003333             4           0.000                 0\n",
       "6       0.001667             2           0.000                 0"
      ]
     },
     "execution_count": 40,
     "metadata": {},
     "output_type": "execute_result"
    }
   ],
   "source": [
    "df_logistic_ldr_race_disparity = df_race_signal_prop.join(logistic_ldr_race_prop, on='race', how='left')\n",
    "df_logistic_ldr_race_disparity = df_logistic_ldr_race_disparity.fillna(0)\n",
    "df_logistic_ldr_race_disparity['low_confidence_n'] = df_logistic_ldr_race_disparity['low_confidence_n'].astype(int)\n",
    "df_logistic_ldr_race_disparity"
   ]
  },
  {
   "cell_type": "markdown",
   "id": "2159eaa6-ec2c-4aad-8bc0-704143cf2444",
   "metadata": {},
   "source": [
    "----\n",
    "Test Hypothesis"
   ]
  },
  {
   "cell_type": "code",
   "execution_count": null,
   "id": "0aa6a15b-05f6-4356-95e0-624673d26cec",
   "metadata": {},
   "outputs": [],
   "source": []
  },
  {
   "cell_type": "code",
   "execution_count": 18,
   "id": "4cd792a4-633c-47fa-bae6-8b451e511b77",
   "metadata": {},
   "outputs": [
    {
     "data": {
      "text/html": [
       "<div>\n",
       "<style scoped>\n",
       "    .dataframe tbody tr th:only-of-type {\n",
       "        vertical-align: middle;\n",
       "    }\n",
       "\n",
       "    .dataframe tbody tr th {\n",
       "        vertical-align: top;\n",
       "    }\n",
       "\n",
       "    .dataframe thead th {\n",
       "        text-align: right;\n",
       "    }\n",
       "</style>\n",
       "<table border=\"1\" class=\"dataframe\">\n",
       "  <thead>\n",
       "    <tr style=\"text-align: right;\">\n",
       "      <th></th>\n",
       "      <th>classes</th>\n",
       "      <th>confidence</th>\n",
       "      <th>credibility</th>\n",
       "      <th>eps</th>\n",
       "      <th>p</th>\n",
       "      <th>verdict</th>\n",
       "      <th>T1</th>\n",
       "      <th>N_Biop</th>\n",
       "      <th>HypPlas</th>\n",
       "      <th>AgeMen</th>\n",
       "      <th>Age1st</th>\n",
       "      <th>N_Rels</th>\n",
       "      <th>Race</th>\n",
       "      <th>class</th>\n",
       "    </tr>\n",
       "  </thead>\n",
       "  <tbody>\n",
       "    <tr>\n",
       "      <th>360</th>\n",
       "      <td>[0]</td>\n",
       "      <td>0.951493</td>\n",
       "      <td>0.134328</td>\n",
       "      <td>0.1</td>\n",
       "      <td>[(0.13432835820895522, 0), (0.0485074626865671...</td>\n",
       "      <td>True</td>\n",
       "      <td>-0.114714</td>\n",
       "      <td>0</td>\n",
       "      <td>2</td>\n",
       "      <td>1.475007</td>\n",
       "      <td>2.040345</td>\n",
       "      <td>1</td>\n",
       "      <td>0</td>\n",
       "      <td>0</td>\n",
       "    </tr>\n",
       "    <tr>\n",
       "      <th>361</th>\n",
       "      <td>[1]</td>\n",
       "      <td>0.951493</td>\n",
       "      <td>0.130597</td>\n",
       "      <td>0.1</td>\n",
       "      <td>[(0.048507462686567165, 0), (0.130597014925373...</td>\n",
       "      <td>False</td>\n",
       "      <td>-0.114714</td>\n",
       "      <td>1</td>\n",
       "      <td>1</td>\n",
       "      <td>0.517210</td>\n",
       "      <td>-0.509225</td>\n",
       "      <td>0</td>\n",
       "      <td>0</td>\n",
       "      <td>0</td>\n",
       "    </tr>\n",
       "    <tr>\n",
       "      <th>362</th>\n",
       "      <td>[0]</td>\n",
       "      <td>0.951493</td>\n",
       "      <td>0.119403</td>\n",
       "      <td>0.1</td>\n",
       "      <td>[(0.11940298507462686, 0), (0.0485074626865671...</td>\n",
       "      <td>False</td>\n",
       "      <td>0.084500</td>\n",
       "      <td>0</td>\n",
       "      <td>2</td>\n",
       "      <td>-1.398384</td>\n",
       "      <td>-0.509225</td>\n",
       "      <td>0</td>\n",
       "      <td>0</td>\n",
       "      <td>1</td>\n",
       "    </tr>\n",
       "    <tr>\n",
       "      <th>363</th>\n",
       "      <td>[0]</td>\n",
       "      <td>0.951493</td>\n",
       "      <td>0.119403</td>\n",
       "      <td>0.1</td>\n",
       "      <td>[(0.11940298507462686, 0), (0.0485074626865671...</td>\n",
       "      <td>True</td>\n",
       "      <td>0.084500</td>\n",
       "      <td>0</td>\n",
       "      <td>2</td>\n",
       "      <td>-0.440587</td>\n",
       "      <td>-0.509225</td>\n",
       "      <td>0</td>\n",
       "      <td>1</td>\n",
       "      <td>0</td>\n",
       "    </tr>\n",
       "    <tr>\n",
       "      <th>364</th>\n",
       "      <td>[0]</td>\n",
       "      <td>0.951493</td>\n",
       "      <td>0.119403</td>\n",
       "      <td>0.1</td>\n",
       "      <td>[(0.11940298507462686, 0), (0.0485074626865671...</td>\n",
       "      <td>False</td>\n",
       "      <td>0.084500</td>\n",
       "      <td>0</td>\n",
       "      <td>2</td>\n",
       "      <td>-1.398384</td>\n",
       "      <td>-0.440318</td>\n",
       "      <td>0</td>\n",
       "      <td>0</td>\n",
       "      <td>1</td>\n",
       "    </tr>\n",
       "    <tr>\n",
       "      <th>365</th>\n",
       "      <td>[0]</td>\n",
       "      <td>0.951493</td>\n",
       "      <td>0.119403</td>\n",
       "      <td>0.1</td>\n",
       "      <td>[(0.11940298507462686, 0), (0.0485074626865671...</td>\n",
       "      <td>True</td>\n",
       "      <td>-0.114714</td>\n",
       "      <td>0</td>\n",
       "      <td>2</td>\n",
       "      <td>0.517210</td>\n",
       "      <td>2.040345</td>\n",
       "      <td>0</td>\n",
       "      <td>2</td>\n",
       "      <td>0</td>\n",
       "    </tr>\n",
       "    <tr>\n",
       "      <th>366</th>\n",
       "      <td>[0]</td>\n",
       "      <td>0.951493</td>\n",
       "      <td>0.119403</td>\n",
       "      <td>0.1</td>\n",
       "      <td>[(0.11940298507462686, 0), (0.0485074626865671...</td>\n",
       "      <td>True</td>\n",
       "      <td>0.084500</td>\n",
       "      <td>0</td>\n",
       "      <td>2</td>\n",
       "      <td>-0.440587</td>\n",
       "      <td>-0.509225</td>\n",
       "      <td>0</td>\n",
       "      <td>1</td>\n",
       "      <td>0</td>\n",
       "    </tr>\n",
       "    <tr>\n",
       "      <th>367</th>\n",
       "      <td>[1]</td>\n",
       "      <td>0.951493</td>\n",
       "      <td>0.119403</td>\n",
       "      <td>0.1</td>\n",
       "      <td>[(0.048507462686567165, 0), (0.119402985074626...</td>\n",
       "      <td>True</td>\n",
       "      <td>0.084500</td>\n",
       "      <td>0</td>\n",
       "      <td>2</td>\n",
       "      <td>0.517210</td>\n",
       "      <td>-0.509225</td>\n",
       "      <td>2</td>\n",
       "      <td>0</td>\n",
       "      <td>1</td>\n",
       "    </tr>\n",
       "    <tr>\n",
       "      <th>368</th>\n",
       "      <td>[1]</td>\n",
       "      <td>0.951493</td>\n",
       "      <td>0.115672</td>\n",
       "      <td>0.1</td>\n",
       "      <td>[(0.048507462686567165, 0), (0.115671641791044...</td>\n",
       "      <td>False</td>\n",
       "      <td>0.084500</td>\n",
       "      <td>0</td>\n",
       "      <td>2</td>\n",
       "      <td>0.517210</td>\n",
       "      <td>-0.440318</td>\n",
       "      <td>0</td>\n",
       "      <td>2</td>\n",
       "      <td>0</td>\n",
       "    </tr>\n",
       "    <tr>\n",
       "      <th>369</th>\n",
       "      <td>[0]</td>\n",
       "      <td>0.951493</td>\n",
       "      <td>0.115672</td>\n",
       "      <td>0.1</td>\n",
       "      <td>[(0.11567164179104478, 0), (0.0485074626865671...</td>\n",
       "      <td>True</td>\n",
       "      <td>-0.114714</td>\n",
       "      <td>0</td>\n",
       "      <td>2</td>\n",
       "      <td>0.517210</td>\n",
       "      <td>-0.509225</td>\n",
       "      <td>1</td>\n",
       "      <td>2</td>\n",
       "      <td>0</td>\n",
       "    </tr>\n",
       "    <tr>\n",
       "      <th>370</th>\n",
       "      <td>[1]</td>\n",
       "      <td>0.947761</td>\n",
       "      <td>0.115672</td>\n",
       "      <td>0.1</td>\n",
       "      <td>[(0.05223880597014925, 0), (0.1156716417910447...</td>\n",
       "      <td>True</td>\n",
       "      <td>0.283714</td>\n",
       "      <td>0</td>\n",
       "      <td>2</td>\n",
       "      <td>-1.398384</td>\n",
       "      <td>2.040345</td>\n",
       "      <td>0</td>\n",
       "      <td>1</td>\n",
       "      <td>1</td>\n",
       "    </tr>\n",
       "    <tr>\n",
       "      <th>371</th>\n",
       "      <td>[0]</td>\n",
       "      <td>0.947761</td>\n",
       "      <td>0.115672</td>\n",
       "      <td>0.1</td>\n",
       "      <td>[(0.11567164179104478, 0), (0.0522388059701492...</td>\n",
       "      <td>False</td>\n",
       "      <td>-0.313929</td>\n",
       "      <td>4</td>\n",
       "      <td>1</td>\n",
       "      <td>0.517210</td>\n",
       "      <td>-0.474771</td>\n",
       "      <td>0</td>\n",
       "      <td>0</td>\n",
       "      <td>1</td>\n",
       "    </tr>\n",
       "    <tr>\n",
       "      <th>372</th>\n",
       "      <td>[1]</td>\n",
       "      <td>0.947761</td>\n",
       "      <td>0.115672</td>\n",
       "      <td>0.1</td>\n",
       "      <td>[(0.05223880597014925, 0), (0.1156716417910447...</td>\n",
       "      <td>True</td>\n",
       "      <td>0.084500</td>\n",
       "      <td>0</td>\n",
       "      <td>2</td>\n",
       "      <td>1.475007</td>\n",
       "      <td>-0.336957</td>\n",
       "      <td>0</td>\n",
       "      <td>3</td>\n",
       "      <td>1</td>\n",
       "    </tr>\n",
       "    <tr>\n",
       "      <th>373</th>\n",
       "      <td>[0]</td>\n",
       "      <td>0.944030</td>\n",
       "      <td>0.115672</td>\n",
       "      <td>0.1</td>\n",
       "      <td>[(0.11567164179104478, 0), (0.0559701492537313...</td>\n",
       "      <td>True</td>\n",
       "      <td>0.084500</td>\n",
       "      <td>0</td>\n",
       "      <td>2</td>\n",
       "      <td>-0.440587</td>\n",
       "      <td>-0.509225</td>\n",
       "      <td>1</td>\n",
       "      <td>1</td>\n",
       "      <td>0</td>\n",
       "    </tr>\n",
       "    <tr>\n",
       "      <th>374</th>\n",
       "      <td>[1]</td>\n",
       "      <td>0.940299</td>\n",
       "      <td>0.115672</td>\n",
       "      <td>0.1</td>\n",
       "      <td>[(0.05970149253731343, 0), (0.1156716417910447...</td>\n",
       "      <td>True</td>\n",
       "      <td>0.084500</td>\n",
       "      <td>0</td>\n",
       "      <td>2</td>\n",
       "      <td>-0.440587</td>\n",
       "      <td>-0.474771</td>\n",
       "      <td>3</td>\n",
       "      <td>0</td>\n",
       "      <td>1</td>\n",
       "    </tr>\n",
       "    <tr>\n",
       "      <th>375</th>\n",
       "      <td>[1]</td>\n",
       "      <td>0.940299</td>\n",
       "      <td>0.111940</td>\n",
       "      <td>0.1</td>\n",
       "      <td>[(0.05970149253731343, 0), (0.1119402985074626...</td>\n",
       "      <td>False</td>\n",
       "      <td>0.283714</td>\n",
       "      <td>0</td>\n",
       "      <td>2</td>\n",
       "      <td>-1.398384</td>\n",
       "      <td>-0.578132</td>\n",
       "      <td>0</td>\n",
       "      <td>1</td>\n",
       "      <td>0</td>\n",
       "    </tr>\n",
       "    <tr>\n",
       "      <th>376</th>\n",
       "      <td>[0]</td>\n",
       "      <td>0.936567</td>\n",
       "      <td>0.108209</td>\n",
       "      <td>0.1</td>\n",
       "      <td>[(0.10820895522388059, 0), (0.0634328358208955...</td>\n",
       "      <td>True</td>\n",
       "      <td>-0.313929</td>\n",
       "      <td>3</td>\n",
       "      <td>0</td>\n",
       "      <td>-0.440587</td>\n",
       "      <td>-0.371410</td>\n",
       "      <td>0</td>\n",
       "      <td>1</td>\n",
       "      <td>0</td>\n",
       "    </tr>\n",
       "    <tr>\n",
       "      <th>377</th>\n",
       "      <td>[0]</td>\n",
       "      <td>0.936567</td>\n",
       "      <td>0.108209</td>\n",
       "      <td>0.1</td>\n",
       "      <td>[(0.10820895522388059, 0), (0.0634328358208955...</td>\n",
       "      <td>True</td>\n",
       "      <td>0.084500</td>\n",
       "      <td>0</td>\n",
       "      <td>2</td>\n",
       "      <td>-2.356181</td>\n",
       "      <td>-0.509225</td>\n",
       "      <td>0</td>\n",
       "      <td>2</td>\n",
       "      <td>0</td>\n",
       "    </tr>\n",
       "    <tr>\n",
       "      <th>378</th>\n",
       "      <td>[0]</td>\n",
       "      <td>0.932836</td>\n",
       "      <td>0.108209</td>\n",
       "      <td>0.1</td>\n",
       "      <td>[(0.10820895522388059, 0), (0.0671641791044776...</td>\n",
       "      <td>False</td>\n",
       "      <td>0.084500</td>\n",
       "      <td>0</td>\n",
       "      <td>2</td>\n",
       "      <td>0.517210</td>\n",
       "      <td>-0.405864</td>\n",
       "      <td>0</td>\n",
       "      <td>1</td>\n",
       "      <td>1</td>\n",
       "    </tr>\n",
       "    <tr>\n",
       "      <th>379</th>\n",
       "      <td>[1]</td>\n",
       "      <td>0.932836</td>\n",
       "      <td>0.104478</td>\n",
       "      <td>0.1</td>\n",
       "      <td>[(0.06716417910447761, 0), (0.1044776119402985...</td>\n",
       "      <td>False</td>\n",
       "      <td>0.084500</td>\n",
       "      <td>0</td>\n",
       "      <td>2</td>\n",
       "      <td>1.475007</td>\n",
       "      <td>-0.474771</td>\n",
       "      <td>0</td>\n",
       "      <td>0</td>\n",
       "      <td>0</td>\n",
       "    </tr>\n",
       "    <tr>\n",
       "      <th>380</th>\n",
       "      <td>[0]</td>\n",
       "      <td>0.932836</td>\n",
       "      <td>0.104478</td>\n",
       "      <td>0.1</td>\n",
       "      <td>[(0.1044776119402985, 0), (0.06716417910447761...</td>\n",
       "      <td>True</td>\n",
       "      <td>-0.114714</td>\n",
       "      <td>0</td>\n",
       "      <td>2</td>\n",
       "      <td>1.475007</td>\n",
       "      <td>-0.509225</td>\n",
       "      <td>1</td>\n",
       "      <td>2</td>\n",
       "      <td>0</td>\n",
       "    </tr>\n",
       "    <tr>\n",
       "      <th>381</th>\n",
       "      <td>[0]</td>\n",
       "      <td>0.932836</td>\n",
       "      <td>0.104478</td>\n",
       "      <td>0.1</td>\n",
       "      <td>[(0.1044776119402985, 0), (0.06716417910447761...</td>\n",
       "      <td>True</td>\n",
       "      <td>0.084500</td>\n",
       "      <td>0</td>\n",
       "      <td>2</td>\n",
       "      <td>-0.440587</td>\n",
       "      <td>-0.509225</td>\n",
       "      <td>0</td>\n",
       "      <td>0</td>\n",
       "      <td>0</td>\n",
       "    </tr>\n",
       "    <tr>\n",
       "      <th>382</th>\n",
       "      <td>[1]</td>\n",
       "      <td>0.932836</td>\n",
       "      <td>0.104478</td>\n",
       "      <td>0.1</td>\n",
       "      <td>[(0.06716417910447761, 0), (0.1044776119402985...</td>\n",
       "      <td>False</td>\n",
       "      <td>-0.313929</td>\n",
       "      <td>1</td>\n",
       "      <td>0</td>\n",
       "      <td>0.517210</td>\n",
       "      <td>2.040345</td>\n",
       "      <td>2</td>\n",
       "      <td>0</td>\n",
       "      <td>0</td>\n",
       "    </tr>\n",
       "    <tr>\n",
       "      <th>383</th>\n",
       "      <td>[1]</td>\n",
       "      <td>0.929104</td>\n",
       "      <td>0.104478</td>\n",
       "      <td>0.1</td>\n",
       "      <td>[(0.0708955223880597, 0), (0.1044776119402985,...</td>\n",
       "      <td>True</td>\n",
       "      <td>-0.313929</td>\n",
       "      <td>1</td>\n",
       "      <td>0</td>\n",
       "      <td>0.517210</td>\n",
       "      <td>-0.543679</td>\n",
       "      <td>3</td>\n",
       "      <td>0</td>\n",
       "      <td>1</td>\n",
       "    </tr>\n",
       "    <tr>\n",
       "      <th>384</th>\n",
       "      <td>[1]</td>\n",
       "      <td>0.925373</td>\n",
       "      <td>0.104478</td>\n",
       "      <td>0.1</td>\n",
       "      <td>[(0.07462686567164178, 0), (0.1044776119402985...</td>\n",
       "      <td>False</td>\n",
       "      <td>0.084500</td>\n",
       "      <td>0</td>\n",
       "      <td>2</td>\n",
       "      <td>-1.398384</td>\n",
       "      <td>-0.543679</td>\n",
       "      <td>2</td>\n",
       "      <td>3</td>\n",
       "      <td>0</td>\n",
       "    </tr>\n",
       "    <tr>\n",
       "      <th>385</th>\n",
       "      <td>[1]</td>\n",
       "      <td>0.925373</td>\n",
       "      <td>0.104478</td>\n",
       "      <td>0.1</td>\n",
       "      <td>[(0.07462686567164178, 0), (0.1044776119402985...</td>\n",
       "      <td>True</td>\n",
       "      <td>0.084500</td>\n",
       "      <td>0</td>\n",
       "      <td>2</td>\n",
       "      <td>-0.440587</td>\n",
       "      <td>-0.543679</td>\n",
       "      <td>0</td>\n",
       "      <td>2</td>\n",
       "      <td>1</td>\n",
       "    </tr>\n",
       "    <tr>\n",
       "      <th>386</th>\n",
       "      <td>[0]</td>\n",
       "      <td>0.925373</td>\n",
       "      <td>0.100746</td>\n",
       "      <td>0.1</td>\n",
       "      <td>[(0.10074626865671642, 0), (0.0746268656716417...</td>\n",
       "      <td>True</td>\n",
       "      <td>0.084500</td>\n",
       "      <td>0</td>\n",
       "      <td>2</td>\n",
       "      <td>-0.440587</td>\n",
       "      <td>2.040345</td>\n",
       "      <td>0</td>\n",
       "      <td>0</td>\n",
       "      <td>0</td>\n",
       "    </tr>\n",
       "    <tr>\n",
       "      <th>387</th>\n",
       "      <td>[1]</td>\n",
       "      <td>0.925373</td>\n",
       "      <td>0.100746</td>\n",
       "      <td>0.1</td>\n",
       "      <td>[(0.07462686567164178, 0), (0.1007462686567164...</td>\n",
       "      <td>True</td>\n",
       "      <td>0.084500</td>\n",
       "      <td>0</td>\n",
       "      <td>2</td>\n",
       "      <td>0.517210</td>\n",
       "      <td>-0.474771</td>\n",
       "      <td>0</td>\n",
       "      <td>3</td>\n",
       "      <td>1</td>\n",
       "    </tr>\n",
       "    <tr>\n",
       "      <th>388</th>\n",
       "      <td>[0]</td>\n",
       "      <td>0.925373</td>\n",
       "      <td>0.100746</td>\n",
       "      <td>0.1</td>\n",
       "      <td>[(0.10074626865671642, 0), (0.0746268656716417...</td>\n",
       "      <td>True</td>\n",
       "      <td>0.084500</td>\n",
       "      <td>0</td>\n",
       "      <td>2</td>\n",
       "      <td>-0.440587</td>\n",
       "      <td>2.040345</td>\n",
       "      <td>0</td>\n",
       "      <td>0</td>\n",
       "      <td>0</td>\n",
       "    </tr>\n",
       "    <tr>\n",
       "      <th>389</th>\n",
       "      <td>[0]</td>\n",
       "      <td>0.921642</td>\n",
       "      <td>0.100746</td>\n",
       "      <td>0.1</td>\n",
       "      <td>[(0.10074626865671642, 0), (0.0783582089552238...</td>\n",
       "      <td>True</td>\n",
       "      <td>-0.313929</td>\n",
       "      <td>3</td>\n",
       "      <td>0</td>\n",
       "      <td>-0.440587</td>\n",
       "      <td>-0.440318</td>\n",
       "      <td>1</td>\n",
       "      <td>1</td>\n",
       "      <td>0</td>\n",
       "    </tr>\n",
       "    <tr>\n",
       "      <th>390</th>\n",
       "      <td>[0]</td>\n",
       "      <td>0.917910</td>\n",
       "      <td>0.100746</td>\n",
       "      <td>0.1</td>\n",
       "      <td>[(0.10074626865671642, 0), (0.0820895522388059...</td>\n",
       "      <td>True</td>\n",
       "      <td>-0.313929</td>\n",
       "      <td>2</td>\n",
       "      <td>0</td>\n",
       "      <td>0.517210</td>\n",
       "      <td>-0.474771</td>\n",
       "      <td>0</td>\n",
       "      <td>0</td>\n",
       "      <td>0</td>\n",
       "    </tr>\n",
       "    <tr>\n",
       "      <th>391</th>\n",
       "      <td>[1]</td>\n",
       "      <td>0.917910</td>\n",
       "      <td>0.100746</td>\n",
       "      <td>0.1</td>\n",
       "      <td>[(0.08208955223880597, 0), (0.1007462686567164...</td>\n",
       "      <td>True</td>\n",
       "      <td>0.084500</td>\n",
       "      <td>0</td>\n",
       "      <td>2</td>\n",
       "      <td>-1.398384</td>\n",
       "      <td>-0.509225</td>\n",
       "      <td>3</td>\n",
       "      <td>0</td>\n",
       "      <td>1</td>\n",
       "    </tr>\n",
       "    <tr>\n",
       "      <th>392</th>\n",
       "      <td>[0]</td>\n",
       "      <td>0.917910</td>\n",
       "      <td>0.100746</td>\n",
       "      <td>0.1</td>\n",
       "      <td>[(0.10074626865671642, 0), (0.0820895522388059...</td>\n",
       "      <td>False</td>\n",
       "      <td>0.084500</td>\n",
       "      <td>0</td>\n",
       "      <td>2</td>\n",
       "      <td>-0.440587</td>\n",
       "      <td>-0.543679</td>\n",
       "      <td>1</td>\n",
       "      <td>0</td>\n",
       "      <td>1</td>\n",
       "    </tr>\n",
       "    <tr>\n",
       "      <th>393</th>\n",
       "      <td>[1]</td>\n",
       "      <td>0.910448</td>\n",
       "      <td>0.100746</td>\n",
       "      <td>0.1</td>\n",
       "      <td>[(0.08955223880597014, 0), (0.1007462686567164...</td>\n",
       "      <td>True</td>\n",
       "      <td>0.084500</td>\n",
       "      <td>0</td>\n",
       "      <td>2</td>\n",
       "      <td>0.517210</td>\n",
       "      <td>2.040345</td>\n",
       "      <td>0</td>\n",
       "      <td>0</td>\n",
       "      <td>1</td>\n",
       "    </tr>\n",
       "    <tr>\n",
       "      <th>394</th>\n",
       "      <td>[0]</td>\n",
       "      <td>0.902985</td>\n",
       "      <td>0.100746</td>\n",
       "      <td>0.1</td>\n",
       "      <td>[(0.10074626865671642, 0), (0.0970149253731343...</td>\n",
       "      <td>False</td>\n",
       "      <td>-0.313929</td>\n",
       "      <td>1</td>\n",
       "      <td>0</td>\n",
       "      <td>1.475007</td>\n",
       "      <td>-0.440318</td>\n",
       "      <td>1</td>\n",
       "      <td>0</td>\n",
       "      <td>1</td>\n",
       "    </tr>\n",
       "    <tr>\n",
       "      <th>395</th>\n",
       "      <td>[0]</td>\n",
       "      <td>0.902985</td>\n",
       "      <td>0.100746</td>\n",
       "      <td>0.1</td>\n",
       "      <td>[(0.10074626865671642, 0), (0.0970149253731343...</td>\n",
       "      <td>False</td>\n",
       "      <td>0.084500</td>\n",
       "      <td>0</td>\n",
       "      <td>2</td>\n",
       "      <td>0.517210</td>\n",
       "      <td>-0.440318</td>\n",
       "      <td>0</td>\n",
       "      <td>0</td>\n",
       "      <td>1</td>\n",
       "    </tr>\n",
       "    <tr>\n",
       "      <th>396</th>\n",
       "      <td>[0]</td>\n",
       "      <td>0.902985</td>\n",
       "      <td>0.100746</td>\n",
       "      <td>0.1</td>\n",
       "      <td>[(0.10074626865671642, 0), (0.0970149253731343...</td>\n",
       "      <td>True</td>\n",
       "      <td>0.084500</td>\n",
       "      <td>0</td>\n",
       "      <td>2</td>\n",
       "      <td>0.517210</td>\n",
       "      <td>-0.440318</td>\n",
       "      <td>0</td>\n",
       "      <td>0</td>\n",
       "      <td>0</td>\n",
       "    </tr>\n",
       "    <tr>\n",
       "      <th>397</th>\n",
       "      <td>[0]</td>\n",
       "      <td>0.902985</td>\n",
       "      <td>0.100746</td>\n",
       "      <td>0.1</td>\n",
       "      <td>[(0.10074626865671642, 0), (0.0970149253731343...</td>\n",
       "      <td>False</td>\n",
       "      <td>-0.114714</td>\n",
       "      <td>0</td>\n",
       "      <td>2</td>\n",
       "      <td>0.517210</td>\n",
       "      <td>-0.543679</td>\n",
       "      <td>3</td>\n",
       "      <td>2</td>\n",
       "      <td>1</td>\n",
       "    </tr>\n",
       "    <tr>\n",
       "      <th>398</th>\n",
       "      <td>[0]</td>\n",
       "      <td>0.902985</td>\n",
       "      <td>0.100746</td>\n",
       "      <td>0.1</td>\n",
       "      <td>[(0.10074626865671642, 0), (0.0970149253731343...</td>\n",
       "      <td>True</td>\n",
       "      <td>0.084500</td>\n",
       "      <td>0</td>\n",
       "      <td>2</td>\n",
       "      <td>0.517210</td>\n",
       "      <td>-0.543679</td>\n",
       "      <td>0</td>\n",
       "      <td>0</td>\n",
       "      <td>0</td>\n",
       "    </tr>\n",
       "    <tr>\n",
       "      <th>399</th>\n",
       "      <td>[0]</td>\n",
       "      <td>0.902985</td>\n",
       "      <td>0.100746</td>\n",
       "      <td>0.1</td>\n",
       "      <td>[(0.10074626865671642, 0), (0.0970149253731343...</td>\n",
       "      <td>True</td>\n",
       "      <td>0.084500</td>\n",
       "      <td>0</td>\n",
       "      <td>2</td>\n",
       "      <td>0.517210</td>\n",
       "      <td>-0.543679</td>\n",
       "      <td>0</td>\n",
       "      <td>0</td>\n",
       "      <td>0</td>\n",
       "    </tr>\n",
       "  </tbody>\n",
       "</table>\n",
       "</div>"
      ],
      "text/plain": [
       "    classes  confidence  credibility  eps  \\\n",
       "360     [0]    0.951493     0.134328  0.1   \n",
       "361     [1]    0.951493     0.130597  0.1   \n",
       "362     [0]    0.951493     0.119403  0.1   \n",
       "363     [0]    0.951493     0.119403  0.1   \n",
       "364     [0]    0.951493     0.119403  0.1   \n",
       "365     [0]    0.951493     0.119403  0.1   \n",
       "366     [0]    0.951493     0.119403  0.1   \n",
       "367     [1]    0.951493     0.119403  0.1   \n",
       "368     [1]    0.951493     0.115672  0.1   \n",
       "369     [0]    0.951493     0.115672  0.1   \n",
       "370     [1]    0.947761     0.115672  0.1   \n",
       "371     [0]    0.947761     0.115672  0.1   \n",
       "372     [1]    0.947761     0.115672  0.1   \n",
       "373     [0]    0.944030     0.115672  0.1   \n",
       "374     [1]    0.940299     0.115672  0.1   \n",
       "375     [1]    0.940299     0.111940  0.1   \n",
       "376     [0]    0.936567     0.108209  0.1   \n",
       "377     [0]    0.936567     0.108209  0.1   \n",
       "378     [0]    0.932836     0.108209  0.1   \n",
       "379     [1]    0.932836     0.104478  0.1   \n",
       "380     [0]    0.932836     0.104478  0.1   \n",
       "381     [0]    0.932836     0.104478  0.1   \n",
       "382     [1]    0.932836     0.104478  0.1   \n",
       "383     [1]    0.929104     0.104478  0.1   \n",
       "384     [1]    0.925373     0.104478  0.1   \n",
       "385     [1]    0.925373     0.104478  0.1   \n",
       "386     [0]    0.925373     0.100746  0.1   \n",
       "387     [1]    0.925373     0.100746  0.1   \n",
       "388     [0]    0.925373     0.100746  0.1   \n",
       "389     [0]    0.921642     0.100746  0.1   \n",
       "390     [0]    0.917910     0.100746  0.1   \n",
       "391     [1]    0.917910     0.100746  0.1   \n",
       "392     [0]    0.917910     0.100746  0.1   \n",
       "393     [1]    0.910448     0.100746  0.1   \n",
       "394     [0]    0.902985     0.100746  0.1   \n",
       "395     [0]    0.902985     0.100746  0.1   \n",
       "396     [0]    0.902985     0.100746  0.1   \n",
       "397     [0]    0.902985     0.100746  0.1   \n",
       "398     [0]    0.902985     0.100746  0.1   \n",
       "399     [0]    0.902985     0.100746  0.1   \n",
       "\n",
       "                                                     p  verdict        T1  \\\n",
       "360  [(0.13432835820895522, 0), (0.0485074626865671...     True -0.114714   \n",
       "361  [(0.048507462686567165, 0), (0.130597014925373...    False -0.114714   \n",
       "362  [(0.11940298507462686, 0), (0.0485074626865671...    False  0.084500   \n",
       "363  [(0.11940298507462686, 0), (0.0485074626865671...     True  0.084500   \n",
       "364  [(0.11940298507462686, 0), (0.0485074626865671...    False  0.084500   \n",
       "365  [(0.11940298507462686, 0), (0.0485074626865671...     True -0.114714   \n",
       "366  [(0.11940298507462686, 0), (0.0485074626865671...     True  0.084500   \n",
       "367  [(0.048507462686567165, 0), (0.119402985074626...     True  0.084500   \n",
       "368  [(0.048507462686567165, 0), (0.115671641791044...    False  0.084500   \n",
       "369  [(0.11567164179104478, 0), (0.0485074626865671...     True -0.114714   \n",
       "370  [(0.05223880597014925, 0), (0.1156716417910447...     True  0.283714   \n",
       "371  [(0.11567164179104478, 0), (0.0522388059701492...    False -0.313929   \n",
       "372  [(0.05223880597014925, 0), (0.1156716417910447...     True  0.084500   \n",
       "373  [(0.11567164179104478, 0), (0.0559701492537313...     True  0.084500   \n",
       "374  [(0.05970149253731343, 0), (0.1156716417910447...     True  0.084500   \n",
       "375  [(0.05970149253731343, 0), (0.1119402985074626...    False  0.283714   \n",
       "376  [(0.10820895522388059, 0), (0.0634328358208955...     True -0.313929   \n",
       "377  [(0.10820895522388059, 0), (0.0634328358208955...     True  0.084500   \n",
       "378  [(0.10820895522388059, 0), (0.0671641791044776...    False  0.084500   \n",
       "379  [(0.06716417910447761, 0), (0.1044776119402985...    False  0.084500   \n",
       "380  [(0.1044776119402985, 0), (0.06716417910447761...     True -0.114714   \n",
       "381  [(0.1044776119402985, 0), (0.06716417910447761...     True  0.084500   \n",
       "382  [(0.06716417910447761, 0), (0.1044776119402985...    False -0.313929   \n",
       "383  [(0.0708955223880597, 0), (0.1044776119402985,...     True -0.313929   \n",
       "384  [(0.07462686567164178, 0), (0.1044776119402985...    False  0.084500   \n",
       "385  [(0.07462686567164178, 0), (0.1044776119402985...     True  0.084500   \n",
       "386  [(0.10074626865671642, 0), (0.0746268656716417...     True  0.084500   \n",
       "387  [(0.07462686567164178, 0), (0.1007462686567164...     True  0.084500   \n",
       "388  [(0.10074626865671642, 0), (0.0746268656716417...     True  0.084500   \n",
       "389  [(0.10074626865671642, 0), (0.0783582089552238...     True -0.313929   \n",
       "390  [(0.10074626865671642, 0), (0.0820895522388059...     True -0.313929   \n",
       "391  [(0.08208955223880597, 0), (0.1007462686567164...     True  0.084500   \n",
       "392  [(0.10074626865671642, 0), (0.0820895522388059...    False  0.084500   \n",
       "393  [(0.08955223880597014, 0), (0.1007462686567164...     True  0.084500   \n",
       "394  [(0.10074626865671642, 0), (0.0970149253731343...    False -0.313929   \n",
       "395  [(0.10074626865671642, 0), (0.0970149253731343...    False  0.084500   \n",
       "396  [(0.10074626865671642, 0), (0.0970149253731343...     True  0.084500   \n",
       "397  [(0.10074626865671642, 0), (0.0970149253731343...    False -0.114714   \n",
       "398  [(0.10074626865671642, 0), (0.0970149253731343...     True  0.084500   \n",
       "399  [(0.10074626865671642, 0), (0.0970149253731343...     True  0.084500   \n",
       "\n",
       "     N_Biop  HypPlas    AgeMen    Age1st  N_Rels  Race  class  \n",
       "360       0        2  1.475007  2.040345       1     0      0  \n",
       "361       1        1  0.517210 -0.509225       0     0      0  \n",
       "362       0        2 -1.398384 -0.509225       0     0      1  \n",
       "363       0        2 -0.440587 -0.509225       0     1      0  \n",
       "364       0        2 -1.398384 -0.440318       0     0      1  \n",
       "365       0        2  0.517210  2.040345       0     2      0  \n",
       "366       0        2 -0.440587 -0.509225       0     1      0  \n",
       "367       0        2  0.517210 -0.509225       2     0      1  \n",
       "368       0        2  0.517210 -0.440318       0     2      0  \n",
       "369       0        2  0.517210 -0.509225       1     2      0  \n",
       "370       0        2 -1.398384  2.040345       0     1      1  \n",
       "371       4        1  0.517210 -0.474771       0     0      1  \n",
       "372       0        2  1.475007 -0.336957       0     3      1  \n",
       "373       0        2 -0.440587 -0.509225       1     1      0  \n",
       "374       0        2 -0.440587 -0.474771       3     0      1  \n",
       "375       0        2 -1.398384 -0.578132       0     1      0  \n",
       "376       3        0 -0.440587 -0.371410       0     1      0  \n",
       "377       0        2 -2.356181 -0.509225       0     2      0  \n",
       "378       0        2  0.517210 -0.405864       0     1      1  \n",
       "379       0        2  1.475007 -0.474771       0     0      0  \n",
       "380       0        2  1.475007 -0.509225       1     2      0  \n",
       "381       0        2 -0.440587 -0.509225       0     0      0  \n",
       "382       1        0  0.517210  2.040345       2     0      0  \n",
       "383       1        0  0.517210 -0.543679       3     0      1  \n",
       "384       0        2 -1.398384 -0.543679       2     3      0  \n",
       "385       0        2 -0.440587 -0.543679       0     2      1  \n",
       "386       0        2 -0.440587  2.040345       0     0      0  \n",
       "387       0        2  0.517210 -0.474771       0     3      1  \n",
       "388       0        2 -0.440587  2.040345       0     0      0  \n",
       "389       3        0 -0.440587 -0.440318       1     1      0  \n",
       "390       2        0  0.517210 -0.474771       0     0      0  \n",
       "391       0        2 -1.398384 -0.509225       3     0      1  \n",
       "392       0        2 -0.440587 -0.543679       1     0      1  \n",
       "393       0        2  0.517210  2.040345       0     0      1  \n",
       "394       1        0  1.475007 -0.440318       1     0      1  \n",
       "395       0        2  0.517210 -0.440318       0     0      1  \n",
       "396       0        2  0.517210 -0.440318       0     0      0  \n",
       "397       0        2  0.517210 -0.543679       3     2      1  \n",
       "398       0        2  0.517210 -0.543679       0     0      0  \n",
       "399       0        2  0.517210 -0.543679       0     0      0  "
      ]
     },
     "execution_count": 18,
     "metadata": {},
     "output_type": "execute_result"
    }
   ],
   "source": [
    "df_cpred_logistic_ldr"
   ]
  },
  {
   "cell_type": "markdown",
   "id": "e6883a86-fa82-4991-947c-0d15d31c2b98",
   "metadata": {},
   "source": [
    "----\n",
    "Plot population race distribution"
   ]
  },
  {
   "cell_type": "code",
   "execution_count": 60,
   "id": "efac305e-6d77-435a-bc21-1b730ef577b9",
   "metadata": {},
   "outputs": [
    {
     "name": "stdout",
     "output_type": "stream",
     "text": [
      "\n"
     ]
    },
    {
     "data": {
      "image/png": "[encoded data removed]",
      "text/plain": [
       "<Figure size 432x288 with 1 Axes>"
      ]
     },
     "metadata": {
      "needs_background": "light"
     },
     "output_type": "display_data"
    }
   ],
   "source": [
    "pop_race = df_race_signal['race']\n",
    "pop_race.plot(kind='density', title='Overall Race Distribution')\n",
    "plt.xlabel('Race')\n",
    "print()"
   ]
  },
  {
   "cell_type": "markdown",
   "id": "242f89a8-9155-4ae6-a2c3-67181d684656",
   "metadata": {},
   "source": [
    "----\n",
    "Plot prediction Lower Decile Range (confidence) distribution"
   ]
  },
  {
   "cell_type": "code",
   "execution_count": 59,
   "id": "4538ce97-e120-47fe-902d-970663be69b8",
   "metadata": {},
   "outputs": [
    {
     "name": "stdout",
     "output_type": "stream",
     "text": [
      "\n"
     ]
    },
    {
     "data": {
      "image/png": "[encoded data removed]",
      "text/plain": [
       "<Figure size 432x288 with 1 Axes>"
      ]
     },
     "metadata": {
      "needs_background": "light"
     },
     "output_type": "display_data"
    }
   ],
   "source": [
    "ldr_race = df_cpred_logistic_ldr.Race\n",
    "ldr_race.plot(kind='density', title='Confidence LDR Race Distribution')\n",
    "plt.xlabel('Race')\n",
    "print()"
   ]
  },
  {
   "cell_type": "markdown",
   "id": "e59a0fe1-86fc-416e-a223-1dee9d256594",
   "metadata": {},
   "source": [
    "Shapiro-Wilk Normality Test\n",
    "----\n",
    "$H_0$ = the data was drawn from a normal distribution"
   ]
  },
  {
   "cell_type": "code",
   "execution_count": 24,
   "id": "6488abc0-cc7a-445a-9027-4be8b354efe8",
   "metadata": {},
   "outputs": [
    {
     "data": {
      "text/plain": [
       "ShapiroResult(statistic=0.7941691875457764, pvalue=1.895033534699303e-36)"
      ]
     },
     "execution_count": 24,
     "metadata": {},
     "output_type": "execute_result"
    }
   ],
   "source": [
    "stats.shapiro(pop_race)"
   ]
  },
  {
   "cell_type": "code",
   "execution_count": 25,
   "id": "2ce09385-8158-45a5-bae5-0119f100f5ef",
   "metadata": {},
   "outputs": [
    {
     "data": {
      "text/plain": [
       "ShapiroResult(statistic=0.7528342008590698, pvalue=8.066829764175054e-07)"
      ]
     },
     "execution_count": 25,
     "metadata": {},
     "output_type": "execute_result"
    }
   ],
   "source": [
    "stats.shapiro(ldr_race)"
   ]
  },
  {
   "cell_type": "markdown",
   "id": "f6fd404d-304e-4aae-a31f-feb9d231cc91",
   "metadata": {},
   "source": [
    "__Conclusion__:\n",
    "\n",
    "Both the population-race distribution and the prediction-confidence LDR race distribution fail the Shapiro-Wilk Normality test.\n",
    "\n",
    "We will have to use a non-parametric test."
   ]
  },
  {
   "cell_type": "code",
   "execution_count": null,
   "id": "0bf0fbc7-cf07-48e0-8401-20f165c7b6a7",
   "metadata": {},
   "outputs": [],
   "source": []
  },
  {
   "cell_type": "code",
   "execution_count": 26,
   "id": "6934aa76-5c28-479b-85a1-cecad3dfff5d",
   "metadata": {},
   "outputs": [
    {
     "data": {
      "text/plain": [
       "1.1765201075964045"
      ]
     },
     "execution_count": 26,
     "metadata": {},
     "output_type": "execute_result"
    }
   ],
   "source": [
    "stats.variation(pop_race)"
   ]
  },
  {
   "cell_type": "code",
   "execution_count": 27,
   "id": "42995ef5-113d-4746-9b1b-bef218e5f649",
   "metadata": {},
   "outputs": [
    {
     "data": {
      "text/plain": [
       "1.2736830337032021"
      ]
     },
     "execution_count": 27,
     "metadata": {},
     "output_type": "execute_result"
    }
   ],
   "source": [
    "stats.variation(ldr_race)"
   ]
  },
  {
   "cell_type": "code",
   "execution_count": null,
   "id": "90c115af-56d2-46d6-8243-a4539d53dd2b",
   "metadata": {},
   "outputs": [],
   "source": []
  },
  {
   "cell_type": "markdown",
   "id": "108bfac1-8571-4489-8b6b-eb7c06e386cd",
   "metadata": {},
   "source": [
    "$H_0$ = all input samples are from populations with equal variances"
   ]
  },
  {
   "cell_type": "code",
   "execution_count": 32,
   "id": "0841d8a2-93a2-49a3-8d45-6e871587b29f",
   "metadata": {},
   "outputs": [
    {
     "data": {
      "text/plain": [
       "LeveneResult(statistic=2.2678878011041803, pvalue=0.13233490083395943)"
      ]
     },
     "execution_count": 32,
     "metadata": {},
     "output_type": "execute_result"
    }
   ],
   "source": [
    "stats.levene(pop_race, ldr_race)"
   ]
  },
  {
   "cell_type": "markdown",
   "id": "11216413-f0c6-44e3-a5af-715e2ed1c219",
   "metadata": {},
   "source": [
    "We fail to rejected the null hypothesis that samples have equal variance"
   ]
  },
  {
   "cell_type": "code",
   "execution_count": null,
   "id": "35efd796-3ef2-4eef-992d-9649f53efc6e",
   "metadata": {},
   "outputs": [],
   "source": []
  },
  {
   "cell_type": "code",
   "execution_count": 33,
   "id": "93ef6313-429e-41cc-ab1f-b10a2b637aa3",
   "metadata": {},
   "outputs": [
    {
     "data": {
      "text/plain": [
       "MannwhitneyuResult(statistic=25812.0, pvalue=0.3813075237168556)"
      ]
     },
     "execution_count": 33,
     "metadata": {},
     "output_type": "execute_result"
    }
   ],
   "source": [
    "stats.mannwhitneyu(pop_race, ldr_race)"
   ]
  },
  {
   "cell_type": "markdown",
   "id": "d9976fe9-bedc-435f-8639-86077f734c4e",
   "metadata": {},
   "source": [
    "The above test is incorrect, as `Race` is not ordinal\n",
    "----"
   ]
  },
  {
   "cell_type": "code",
   "execution_count": null,
   "id": "5da48438-6533-4c63-ba0c-b2c4f32d08c6",
   "metadata": {},
   "outputs": [],
   "source": []
  },
  {
   "cell_type": "code",
   "execution_count": null,
   "id": "4f6685d0-6b92-4085-b33a-69f9b31879ab",
   "metadata": {},
   "outputs": [],
   "source": []
  },
  {
   "cell_type": "code",
   "execution_count": 61,
   "id": "55f1a358-950c-4732-897a-4bb27f0d99ec",
   "metadata": {
    "scrolled": true,
    "tags": []
   },
   "outputs": [],
   "source": [
    "# stats.ttest_ind_from_stats?\n",
    "\n",
    "# Signature:\n",
    "# stats.ttest_ind_from_stats(\n",
    "#     mean1,\n",
    "#     std1,\n",
    "#     nobs1,\n",
    "#     mean2,\n",
    "#     std2,\n",
    "#     nobs2,\n",
    "#     equal_var=True,\n",
    "#     alternative='two-sided',\n",
    "# )\n",
    "# Docstring:\n",
    "# T-test for means of two independent samples from descriptive statistics.\n",
    "\n",
    "# This is a two-sided test for the null hypothesis that two independent\n",
    "# samples have identical average (expected) values."
   ]
  },
  {
   "cell_type": "code",
   "execution_count": 47,
   "id": "0b17741d-afe8-449a-9ee2-f93b108fb293",
   "metadata": {},
   "outputs": [
    {
     "name": "stdout",
     "output_type": "stream",
     "text": [
      "Race = (0,)\n",
      "Ttest_indResult(statistic=-0.27247426224527455, pvalue=0.7853497366259188)\n",
      "Race = (1,)\n",
      "Ttest_indResult(statistic=-0.01390641685525306, pvalue=0.9889161954169475)\n",
      "Race = (2,)\n",
      "Ttest_indResult(statistic=0.10878495128601415, pvalue=0.9134553857414007)\n",
      "Race = (3,)\n",
      "Ttest_indResult(statistic=0.005683520519737914, pvalue=0.9954771490907556)\n",
      "Race = (4,)\n",
      "Ttest_indResult(statistic=0.0, pvalue=1.0)\n",
      "Race = (5,)\n",
      "Ttest_indResult(statistic=0.0, pvalue=1.0)\n",
      "Race = (6,)\n",
      "Ttest_indResult(statistic=nan, pvalue=nan)\n"
     ]
    }
   ],
   "source": [
    "# need std for this test\n",
    "for i, row in df_logistic_ldr_race_disparity.iterrows():\n",
    "    print(f'Race = {i}')\n",
    "    print(stats.ttest_ind_from_stats(mean1=row.prevalence, std1=1, nobs1=row.prevalence_n, \n",
    "                                     mean2=row.low_confidence, std2=1, nobs2=row.low_confidence_n))"
   ]
  },
  {
   "cell_type": "code",
   "execution_count": 43,
   "id": "5fe4ccb7-cf96-4527-befd-c4d9ded13147",
   "metadata": {},
   "outputs": [
    {
     "data": {
      "text/html": [
       "<div>\n",
       "<style scoped>\n",
       "    .dataframe tbody tr th:only-of-type {\n",
       "        vertical-align: middle;\n",
       "    }\n",
       "\n",
       "    .dataframe tbody tr th {\n",
       "        vertical-align: top;\n",
       "    }\n",
       "\n",
       "    .dataframe thead th {\n",
       "        text-align: right;\n",
       "    }\n",
       "</style>\n",
       "<table border=\"1\" class=\"dataframe\">\n",
       "  <thead>\n",
       "    <tr style=\"text-align: right;\">\n",
       "      <th></th>\n",
       "      <th>prevalence</th>\n",
       "      <th>prevalence_n</th>\n",
       "      <th>low_confidence</th>\n",
       "      <th>low_confidence_n</th>\n",
       "    </tr>\n",
       "    <tr>\n",
       "      <th>race</th>\n",
       "      <th></th>\n",
       "      <th></th>\n",
       "      <th></th>\n",
       "      <th></th>\n",
       "    </tr>\n",
       "  </thead>\n",
       "  <tbody>\n",
       "    <tr>\n",
       "      <th>0</th>\n",
       "      <td>0.490833</td>\n",
       "      <td>589</td>\n",
       "      <td>0.550</td>\n",
       "      <td>22</td>\n",
       "    </tr>\n",
       "    <tr>\n",
       "      <th>1</th>\n",
       "      <td>0.195000</td>\n",
       "      <td>234</td>\n",
       "      <td>0.200</td>\n",
       "      <td>8</td>\n",
       "    </tr>\n",
       "    <tr>\n",
       "      <th>2</th>\n",
       "      <td>0.216667</td>\n",
       "      <td>260</td>\n",
       "      <td>0.175</td>\n",
       "      <td>7</td>\n",
       "    </tr>\n",
       "    <tr>\n",
       "      <th>3</th>\n",
       "      <td>0.078333</td>\n",
       "      <td>94</td>\n",
       "      <td>0.075</td>\n",
       "      <td>3</td>\n",
       "    </tr>\n",
       "    <tr>\n",
       "      <th>4</th>\n",
       "      <td>0.014167</td>\n",
       "      <td>17</td>\n",
       "      <td>0.000</td>\n",
       "      <td>0</td>\n",
       "    </tr>\n",
       "    <tr>\n",
       "      <th>5</th>\n",
       "      <td>0.003333</td>\n",
       "      <td>4</td>\n",
       "      <td>0.000</td>\n",
       "      <td>0</td>\n",
       "    </tr>\n",
       "    <tr>\n",
       "      <th>6</th>\n",
       "      <td>0.001667</td>\n",
       "      <td>2</td>\n",
       "      <td>0.000</td>\n",
       "      <td>0</td>\n",
       "    </tr>\n",
       "  </tbody>\n",
       "</table>\n",
       "</div>"
      ],
      "text/plain": [
       "      prevalence  prevalence_n  low_confidence  low_confidence_n\n",
       "race                                                            \n",
       "0       0.490833           589           0.550                22\n",
       "1       0.195000           234           0.200                 8\n",
       "2       0.216667           260           0.175                 7\n",
       "3       0.078333            94           0.075                 3\n",
       "4       0.014167            17           0.000                 0\n",
       "5       0.003333             4           0.000                 0\n",
       "6       0.001667             2           0.000                 0"
      ]
     },
     "execution_count": 43,
     "metadata": {},
     "output_type": "execute_result"
    }
   ],
   "source": [
    "df_logistic_ldr_race_disparity"
   ]
  },
  {
   "cell_type": "code",
   "execution_count": null,
   "id": "4b6f1148-3678-4815-9c73-f5a18f2e08f3",
   "metadata": {},
   "outputs": [],
   "source": []
  },
  {
   "cell_type": "code",
   "execution_count": null,
   "id": "417c385f-7884-470f-a0c4-375bb13f4bcf",
   "metadata": {},
   "outputs": [],
   "source": []
  },
  {
   "cell_type": "code",
   "execution_count": null,
   "id": "e7b7568a-e252-4a0f-a2f7-bbf575d20c5f",
   "metadata": {},
   "outputs": [],
   "source": []
  },
  {
   "cell_type": "code",
   "execution_count": null,
   "id": "b7b8b4ba-506e-47e5-a469-a5b77313e999",
   "metadata": {},
   "outputs": [],
   "source": []
  },
  {
   "cell_type": "code",
   "execution_count": 416,
   "id": "f2e91024-21c3-4baa-b742-785ddecf16a4",
   "metadata": {
    "tags": []
   },
   "outputs": [
    {
     "data": {
      "text/plain": [
       "classes                      [1]\n",
       "confidence              0.921642\n",
       "credibility             0.100746\n",
       "verdict                    False\n",
       "Race                           2\n",
       "class                          0\n",
       "class_0                        7\n",
       "class_1                        6\n",
       "confidence_ensemble     0.617804\n",
       "credibility_ensemble    0.662047\n",
       "Name: 191, dtype: object"
      ]
     },
     "execution_count": 416,
     "metadata": {},
     "output_type": "execute_result"
    }
   ],
   "source": [
    "pred = df[~df.verdict].sort_values(by=['confidence','credibility']).iloc[2,:]\n",
    "pred"
   ]
  },
  {
   "cell_type": "code",
   "execution_count": 16,
   "id": "6f0b44e1-6189-4515-b6c0-9b4756000ce7",
   "metadata": {
    "tags": []
   },
   "outputs": [],
   "source": [
    "import plotly.graph_objects as go"
   ]
  },
  {
   "cell_type": "code",
   "execution_count": 454,
   "id": "ece8b0d9-4c37-4c92-84f8-d5d607935e91",
   "metadata": {
    "tags": []
   },
   "outputs": [
    {
     "data": {
      "application/vnd.plotly.v1+json": {
       "config": {
        "plotlyServerURL": "https://plot.ly"
       },
       "data": [
        {
         "delta": {
          "reference": 89.92537313432835
         },
         "domain": {
          "x": [
           0,
           1
          ],
          "y": [
           0,
           1
          ]
         },
         "gauge": {
          "axis": {
           "range": [
            null,
            100
           ]
          },
          "steps": [
           {
            "color": "tomato",
            "range": [
             0,
             5
            ]
           },
           {
            "color": "lightgray",
            "range": [
             90,
             100
            ]
           }
          ],
          "threshold": {
           "line": {
            "color": "lime",
            "width": 4
           },
           "thickness": 0.75,
           "value": 10.074626865671641
          }
         },
         "mode": "gauge+number+delta",
         "title": {
          "text": "Risk"
         },
         "type": "indicator",
         "value": 92.16417910447761
        }
       ],
       "layout": {
        "autosize": true,
        "template": {
         "data": {
          "bar": [
           {
            "error_x": {
             "color": "#2a3f5f"
            },
            "error_y": {
             "color": "#2a3f5f"
            },
            "marker": {
             "line": {
              "color": "#E5ECF6",
              "width": 0.5
             },
             "pattern": {
              "fillmode": "overlay",
              "size": 10,
              "solidity": 0.2
             }
            },
            "type": "bar"
           }
          ],
          "barpolar": [
           {
            "marker": {
             "line": {
              "color": "#E5ECF6",
              "width": 0.5
             },
             "pattern": {
              "fillmode": "overlay",
              "size": 10,
              "solidity": 0.2
             }
            },
            "type": "barpolar"
           }
          ],
          "carpet": [
           {
            "aaxis": {
             "endlinecolor": "#2a3f5f",
             "gridcolor": "white",
             "linecolor": "white",
             "minorgridcolor": "white",
             "startlinecolor": "#2a3f5f"
            },
            "baxis": {
             "endlinecolor": "#2a3f5f",
             "gridcolor": "white",
             "linecolor": "white",
             "minorgridcolor": "white",
             "startlinecolor": "#2a3f5f"
            },
            "type": "carpet"
           }
          ],
          "choropleth": [
           {
            "colorbar": {
             "outlinewidth": 0,
             "ticks": ""
            },
            "type": "choropleth"
           }
          ],
          "contour": [
           {
            "colorbar": {
             "outlinewidth": 0,
             "ticks": ""
            },
            "colorscale": [
             [
              0,
              "#0d0887"
             ],
             [
              0.1111111111111111,
              "#46039f"
             ],
             [
              0.2222222222222222,
              "#7201a8"
             ],
             [
              0.3333333333333333,
              "#9c179e"
             ],
             [
              0.4444444444444444,
              "#bd3786"
             ],
             [
              0.5555555555555556,
              "#d8576b"
             ],
             [
              0.6666666666666666,
              "#ed7953"
             ],
             [
              0.7777777777777778,
              "#fb9f3a"
             ],
             [
              0.8888888888888888,
              "#fdca26"
             ],
             [
              1,
              "#f0f921"
             ]
            ],
            "type": "contour"
           }
          ],
          "contourcarpet": [
           {
            "colorbar": {
             "outlinewidth": 0,
             "ticks": ""
            },
            "type": "contourcarpet"
           }
          ],
          "heatmap": [
           {
            "colorbar": {
             "outlinewidth": 0,
             "ticks": ""
            },
            "colorscale": [
             [
              0,
              "#0d0887"
             ],
             [
              0.1111111111111111,
              "#46039f"
             ],
             [
              0.2222222222222222,
              "#7201a8"
             ],
             [
              0.3333333333333333,
              "#9c179e"
             ],
             [
              0.4444444444444444,
              "#bd3786"
             ],
             [
              0.5555555555555556,
              "#d8576b"
             ],
             [
              0.6666666666666666,
              "#ed7953"
             ],
             [
              0.7777777777777778,
              "#fb9f3a"
             ],
             [
              0.8888888888888888,
              "#fdca26"
             ],
             [
              1,
              "#f0f921"
             ]
            ],
            "type": "heatmap"
           }
          ],
          "heatmapgl": [
           {
            "colorbar": {
             "outlinewidth": 0,
             "ticks": ""
            },
            "colorscale": [
             [
              0,
              "#0d0887"
             ],
             [
              0.1111111111111111,
              "#46039f"
             ],
             [
              0.2222222222222222,
              "#7201a8"
             ],
             [
              0.3333333333333333,
              "#9c179e"
             ],
             [
              0.4444444444444444,
              "#bd3786"
             ],
             [
              0.5555555555555556,
              "#d8576b"
             ],
             [
              0.6666666666666666,
              "#ed7953"
             ],
             [
              0.7777777777777778,
              "#fb9f3a"
             ],
             [
              0.8888888888888888,
              "#fdca26"
             ],
             [
              1,
              "#f0f921"
             ]
            ],
            "type": "heatmapgl"
           }
          ],
          "histogram": [
           {
            "marker": {
             "pattern": {
              "fillmode": "overlay",
              "size": 10,
              "solidity": 0.2
             }
            },
            "type": "histogram"
           }
          ],
          "histogram2d": [
           {
            "colorbar": {
             "outlinewidth": 0,
             "ticks": ""
            },
            "colorscale": [
             [
              0,
              "#0d0887"
             ],
             [
              0.1111111111111111,
              "#46039f"
             ],
             [
              0.2222222222222222,
              "#7201a8"
             ],
             [
              0.3333333333333333,
              "#9c179e"
             ],
             [
              0.4444444444444444,
              "#bd3786"
             ],
             [
              0.5555555555555556,
              "#d8576b"
             ],
             [
              0.6666666666666666,
              "#ed7953"
             ],
             [
              0.7777777777777778,
              "#fb9f3a"
             ],
             [
              0.8888888888888888,
              "#fdca26"
             ],
             [
              1,
              "#f0f921"
             ]
            ],
            "type": "histogram2d"
           }
          ],
          "histogram2dcontour": [
           {
            "colorbar": {
             "outlinewidth": 0,
             "ticks": ""
            },
            "colorscale": [
             [
              0,
              "#0d0887"
             ],
             [
              0.1111111111111111,
              "#46039f"
             ],
             [
              0.2222222222222222,
              "#7201a8"
             ],
             [
              0.3333333333333333,
              "#9c179e"
             ],
             [
              0.4444444444444444,
              "#bd3786"
             ],
             [
              0.5555555555555556,
              "#d8576b"
             ],
             [
              0.6666666666666666,
              "#ed7953"
             ],
             [
              0.7777777777777778,
              "#fb9f3a"
             ],
             [
              0.8888888888888888,
              "#fdca26"
             ],
             [
              1,
              "#f0f921"
             ]
            ],
            "type": "histogram2dcontour"
           }
          ],
          "mesh3d": [
           {
            "colorbar": {
             "outlinewidth": 0,
             "ticks": ""
            },
            "type": "mesh3d"
           }
          ],
          "parcoords": [
           {
            "line": {
             "colorbar": {
              "outlinewidth": 0,
              "ticks": ""
             }
            },
            "type": "parcoords"
           }
          ],
          "pie": [
           {
            "automargin": true,
            "type": "pie"
           }
          ],
          "scatter": [
           {
            "fillpattern": {
             "fillmode": "overlay",
             "size": 10,
             "solidity": 0.2
            },
            "type": "scatter"
           }
          ],
          "scatter3d": [
           {
            "line": {
             "colorbar": {
              "outlinewidth": 0,
              "ticks": ""
             }
            },
            "marker": {
             "colorbar": {
              "outlinewidth": 0,
              "ticks": ""
             }
            },
            "type": "scatter3d"
           }
          ],
          "scattercarpet": [
           {
            "marker": {
             "colorbar": {
              "outlinewidth": 0,
              "ticks": ""
             }
            },
            "type": "scattercarpet"
           }
          ],
          "scattergeo": [
           {
            "marker": {
             "colorbar": {
              "outlinewidth": 0,
              "ticks": ""
             }
            },
            "type": "scattergeo"
           }
          ],
          "scattergl": [
           {
            "marker": {
             "colorbar": {
              "outlinewidth": 0,
              "ticks": ""
             }
            },
            "type": "scattergl"
           }
          ],
          "scattermapbox": [
           {
            "marker": {
             "colorbar": {
              "outlinewidth": 0,
              "ticks": ""
             }
            },
            "type": "scattermapbox"
           }
          ],
          "scatterpolar": [
           {
            "marker": {
             "colorbar": {
              "outlinewidth": 0,
              "ticks": ""
             }
            },
            "type": "scatterpolar"
           }
          ],
          "scatterpolargl": [
           {
            "marker": {
             "colorbar": {
              "outlinewidth": 0,
              "ticks": ""
             }
            },
            "type": "scatterpolargl"
           }
          ],
          "scatterternary": [
           {
            "marker": {
             "colorbar": {
              "outlinewidth": 0,
              "ticks": ""
             }
            },
            "type": "scatterternary"
           }
          ],
          "surface": [
           {
            "colorbar": {
             "outlinewidth": 0,
             "ticks": ""
            },
            "colorscale": [
             [
              0,
              "#0d0887"
             ],
             [
              0.1111111111111111,
              "#46039f"
             ],
             [
              0.2222222222222222,
              "#7201a8"
             ],
             [
              0.3333333333333333,
              "#9c179e"
             ],
             [
              0.4444444444444444,
              "#bd3786"
             ],
             [
              0.5555555555555556,
              "#d8576b"
             ],
             [
              0.6666666666666666,
              "#ed7953"
             ],
             [
              0.7777777777777778,
              "#fb9f3a"
             ],
             [
              0.8888888888888888,
              "#fdca26"
             ],
             [
              1,
              "#f0f921"
             ]
            ],
            "type": "surface"
           }
          ],
          "table": [
           {
            "cells": {
             "fill": {
              "color": "#EBF0F8"
             },
             "line": {
              "color": "white"
             }
            },
            "header": {
             "fill": {
              "color": "#C8D4E3"
             },
             "line": {
              "color": "white"
             }
            },
            "type": "table"
           }
          ]
         },
         "layout": {
          "annotationdefaults": {
           "arrowcolor": "#2a3f5f",
           "arrowhead": 0,
           "arrowwidth": 1
          },
          "autotypenumbers": "strict",
          "coloraxis": {
           "colorbar": {
            "outlinewidth": 0,
            "ticks": ""
           }
          },
          "colorscale": {
           "diverging": [
            [
             0,
             "#8e0152"
            ],
            [
             0.1,
             "#c51b7d"
            ],
            [
             0.2,
             "#de77ae"
            ],
            [
             0.3,
             "#f1b6da"
            ],
            [
             0.4,
             "#fde0ef"
            ],
            [
             0.5,
             "#f7f7f7"
            ],
            [
             0.6,
             "#e6f5d0"
            ],
            [
             0.7,
             "#b8e186"
            ],
            [
             0.8,
             "#7fbc41"
            ],
            [
             0.9,
             "#4d9221"
            ],
            [
             1,
             "#276419"
            ]
           ],
           "sequential": [
            [
             0,
             "#0d0887"
            ],
            [
             0.1111111111111111,
             "#46039f"
            ],
            [
             0.2222222222222222,
             "#7201a8"
            ],
            [
             0.3333333333333333,
             "#9c179e"
            ],
            [
             0.4444444444444444,
             "#bd3786"
            ],
            [
             0.5555555555555556,
             "#d8576b"
            ],
            [
             0.6666666666666666,
             "#ed7953"
            ],
            [
             0.7777777777777778,
             "#fb9f3a"
            ],
            [
             0.8888888888888888,
             "#fdca26"
            ],
            [
             1,
             "#f0f921"
            ]
           ],
           "sequentialminus": [
            [
             0,
             "#0d0887"
            ],
            [
             0.1111111111111111,
             "#46039f"
            ],
            [
             0.2222222222222222,
             "#7201a8"
            ],
            [
             0.3333333333333333,
             "#9c179e"
            ],
            [
             0.4444444444444444,
             "#bd3786"
            ],
            [
             0.5555555555555556,
             "#d8576b"
            ],
            [
             0.6666666666666666,
             "#ed7953"
            ],
            [
             0.7777777777777778,
             "#fb9f3a"
            ],
            [
             0.8888888888888888,
             "#fdca26"
            ],
            [
             1,
             "#f0f921"
            ]
           ]
          },
          "colorway": [
           "#636efa",
           "#EF553B",
           "#00cc96",
           "#ab63fa",
           "#FFA15A",
           "#19d3f3",
           "#FF6692",
           "#B6E880",
           "#FF97FF",
           "#FECB52"
          ],
          "font": {
           "color": "#2a3f5f"
          },
          "geo": {
           "bgcolor": "white",
           "lakecolor": "white",
           "landcolor": "#E5ECF6",
           "showlakes": true,
           "showland": true,
           "subunitcolor": "white"
          },
          "hoverlabel": {
           "align": "left"
          },
          "hovermode": "closest",
          "mapbox": {
           "style": "light"
          },
          "paper_bgcolor": "white",
          "plot_bgcolor": "#E5ECF6",
          "polar": {
           "angularaxis": {
            "gridcolor": "white",
            "linecolor": "white",
            "ticks": ""
           },
           "bgcolor": "#E5ECF6",
           "radialaxis": {
            "gridcolor": "white",
            "linecolor": "white",
            "ticks": ""
           }
          },
          "scene": {
           "xaxis": {
            "backgroundcolor": "#E5ECF6",
            "gridcolor": "white",
            "gridwidth": 2,
            "linecolor": "white",
            "showbackground": true,
            "ticks": "",
            "zerolinecolor": "white"
           },
           "yaxis": {
            "backgroundcolor": "#E5ECF6",
            "gridcolor": "white",
            "gridwidth": 2,
            "linecolor": "white",
            "showbackground": true,
            "ticks": "",
            "zerolinecolor": "white"
           },
           "zaxis": {
            "backgroundcolor": "#E5ECF6",
            "gridcolor": "white",
            "gridwidth": 2,
            "linecolor": "white",
            "showbackground": true,
            "ticks": "",
            "zerolinecolor": "white"
           }
          },
          "shapedefaults": {
           "line": {
            "color": "#2a3f5f"
           }
          },
          "ternary": {
           "aaxis": {
            "gridcolor": "white",
            "linecolor": "white",
            "ticks": ""
           },
           "baxis": {
            "gridcolor": "white",
            "linecolor": "white",
            "ticks": ""
           },
           "bgcolor": "#E5ECF6",
           "caxis": {
            "gridcolor": "white",
            "linecolor": "white",
            "ticks": ""
           }
          },
          "title": {
           "x": 0.05
          },
          "xaxis": {
           "automargin": true,
           "gridcolor": "white",
           "linecolor": "white",
           "ticks": "",
           "title": {
            "standoff": 15
           },
           "zerolinecolor": "white",
           "zerolinewidth": 2
          },
          "yaxis": {
           "automargin": true,
           "gridcolor": "white",
           "linecolor": "white",
           "ticks": "",
           "title": {
            "standoff": 15
           },
           "zerolinecolor": "white",
           "zerolinewidth": 2
          }
         }
        }
       }
      },
      "image/png": "[encoded data removed]",
      "text/html": [
       "<div>                            <div id=\"c5f5b2a5-275f-4e78-a788-30b3e7f962dc\" class=\"plotly-graph-div\" style=\"height:525px; width:100%;\"></div>            <script type=\"text/javascript\">                require([\"plotly\"], function(Plotly) {                    window.PLOTLYENV=window.PLOTLYENV || {};                                    if (document.getElementById(\"c5f5b2a5-275f-4e78-a788-30b3e7f962dc\")) {                    Plotly.newPlot(                        \"c5f5b2a5-275f-4e78-a788-30b3e7f962dc\",                        [{\"delta\":{\"reference\":89.92537313432835},\"domain\":{\"x\":[0,1],\"y\":[0,1]},\"gauge\":{\"axis\":{\"range\":[null,100]},\"steps\":[{\"color\":\"tomato\",\"range\":[0,5]},{\"color\":\"lightgray\",\"range\":[90,100]}],\"threshold\":{\"line\":{\"color\":\"lime\",\"width\":4},\"thickness\":0.75,\"value\":10.074626865671641}},\"mode\":\"gauge+number+delta\",\"title\":{\"text\":\"Risk\"},\"value\":92.16417910447761,\"type\":\"indicator\"}],                        {\"template\":{\"data\":{\"histogram2dcontour\":[{\"type\":\"histogram2dcontour\",\"colorbar\":{\"outlinewidth\":0,\"ticks\":\"\"},\"colorscale\":[[0.0,\"#0d0887\"],[0.1111111111111111,\"#46039f\"],[0.2222222222222222,\"#7201a8\"],[0.3333333333333333,\"#9c179e\"],[0.4444444444444444,\"#bd3786\"],[0.5555555555555556,\"#d8576b\"],[0.6666666666666666,\"#ed7953\"],[0.7777777777777778,\"#fb9f3a\"],[0.8888888888888888,\"#fdca26\"],[1.0,\"#f0f921\"]]}],\"choropleth\":[{\"type\":\"choropleth\",\"colorbar\":{\"outlinewidth\":0,\"ticks\":\"\"}}],\"histogram2d\":[{\"type\":\"histogram2d\",\"colorbar\":{\"outlinewidth\":0,\"ticks\":\"\"},\"colorscale\":[[0.0,\"#0d0887\"],[0.1111111111111111,\"#46039f\"],[0.2222222222222222,\"#7201a8\"],[0.3333333333333333,\"#9c179e\"],[0.4444444444444444,\"#bd3786\"],[0.5555555555555556,\"#d8576b\"],[0.6666666666666666,\"#ed7953\"],[0.7777777777777778,\"#fb9f3a\"],[0.8888888888888888,\"#fdca26\"],[1.0,\"#f0f921\"]]}],\"heatmap\":[{\"type\":\"heatmap\",\"colorbar\":{\"outlinewidth\":0,\"ticks\":\"\"},\"colorscale\":[[0.0,\"#0d0887\"],[0.1111111111111111,\"#46039f\"],[0.2222222222222222,\"#7201a8\"],[0.3333333333333333,\"#9c179e\"],[0.4444444444444444,\"#bd3786\"],[0.5555555555555556,\"#d8576b\"],[0.6666666666666666,\"#ed7953\"],[0.7777777777777778,\"#fb9f3a\"],[0.8888888888888888,\"#fdca26\"],[1.0,\"#f0f921\"]]}],\"heatmapgl\":[{\"type\":\"heatmapgl\",\"colorbar\":{\"outlinewidth\":0,\"ticks\":\"\"},\"colorscale\":[[0.0,\"#0d0887\"],[0.1111111111111111,\"#46039f\"],[0.2222222222222222,\"#7201a8\"],[0.3333333333333333,\"#9c179e\"],[0.4444444444444444,\"#bd3786\"],[0.5555555555555556,\"#d8576b\"],[0.6666666666666666,\"#ed7953\"],[0.7777777777777778,\"#fb9f3a\"],[0.8888888888888888,\"#fdca26\"],[1.0,\"#f0f921\"]]}],\"contourcarpet\":[{\"type\":\"contourcarpet\",\"colorbar\":{\"outlinewidth\":0,\"ticks\":\"\"}}],\"contour\":[{\"type\":\"contour\",\"colorbar\":{\"outlinewidth\":0,\"ticks\":\"\"},\"colorscale\":[[0.0,\"#0d0887\"],[0.1111111111111111,\"#46039f\"],[0.2222222222222222,\"#7201a8\"],[0.3333333333333333,\"#9c179e\"],[0.4444444444444444,\"#bd3786\"],[0.5555555555555556,\"#d8576b\"],[0.6666666666666666,\"#ed7953\"],[0.7777777777777778,\"#fb9f3a\"],[0.8888888888888888,\"#fdca26\"],[1.0,\"#f0f921\"]]}],\"surface\":[{\"type\":\"surface\",\"colorbar\":{\"outlinewidth\":0,\"ticks\":\"\"},\"colorscale\":[[0.0,\"#0d0887\"],[0.1111111111111111,\"#46039f\"],[0.2222222222222222,\"#7201a8\"],[0.3333333333333333,\"#9c179e\"],[0.4444444444444444,\"#bd3786\"],[0.5555555555555556,\"#d8576b\"],[0.6666666666666666,\"#ed7953\"],[0.7777777777777778,\"#fb9f3a\"],[0.8888888888888888,\"#fdca26\"],[1.0,\"#f0f921\"]]}],\"mesh3d\":[{\"type\":\"mesh3d\",\"colorbar\":{\"outlinewidth\":0,\"ticks\":\"\"}}],\"scatter\":[{\"fillpattern\":{\"fillmode\":\"overlay\",\"size\":10,\"solidity\":0.2},\"type\":\"scatter\"}],\"parcoords\":[{\"type\":\"parcoords\",\"line\":{\"colorbar\":{\"outlinewidth\":0,\"ticks\":\"\"}}}],\"scatterpolargl\":[{\"type\":\"scatterpolargl\",\"marker\":{\"colorbar\":{\"outlinewidth\":0,\"ticks\":\"\"}}}],\"bar\":[{\"error_x\":{\"color\":\"#2a3f5f\"},\"error_y\":{\"color\":\"#2a3f5f\"},\"marker\":{\"line\":{\"color\":\"#E5ECF6\",\"width\":0.5},\"pattern\":{\"fillmode\":\"overlay\",\"size\":10,\"solidity\":0.2}},\"type\":\"bar\"}],\"scattergeo\":[{\"type\":\"scattergeo\",\"marker\":{\"colorbar\":{\"outlinewidth\":0,\"ticks\":\"\"}}}],\"scatterpolar\":[{\"type\":\"scatterpolar\",\"marker\":{\"colorbar\":{\"outlinewidth\":0,\"ticks\":\"\"}}}],\"histogram\":[{\"marker\":{\"pattern\":{\"fillmode\":\"overlay\",\"size\":10,\"solidity\":0.2}},\"type\":\"histogram\"}],\"scattergl\":[{\"type\":\"scattergl\",\"marker\":{\"colorbar\":{\"outlinewidth\":0,\"ticks\":\"\"}}}],\"scatter3d\":[{\"type\":\"scatter3d\",\"line\":{\"colorbar\":{\"outlinewidth\":0,\"ticks\":\"\"}},\"marker\":{\"colorbar\":{\"outlinewidth\":0,\"ticks\":\"\"}}}],\"scattermapbox\":[{\"type\":\"scattermapbox\",\"marker\":{\"colorbar\":{\"outlinewidth\":0,\"ticks\":\"\"}}}],\"scatterternary\":[{\"type\":\"scatterternary\",\"marker\":{\"colorbar\":{\"outlinewidth\":0,\"ticks\":\"\"}}}],\"scattercarpet\":[{\"type\":\"scattercarpet\",\"marker\":{\"colorbar\":{\"outlinewidth\":0,\"ticks\":\"\"}}}],\"carpet\":[{\"aaxis\":{\"endlinecolor\":\"#2a3f5f\",\"gridcolor\":\"white\",\"linecolor\":\"white\",\"minorgridcolor\":\"white\",\"startlinecolor\":\"#2a3f5f\"},\"baxis\":{\"endlinecolor\":\"#2a3f5f\",\"gridcolor\":\"white\",\"linecolor\":\"white\",\"minorgridcolor\":\"white\",\"startlinecolor\":\"#2a3f5f\"},\"type\":\"carpet\"}],\"table\":[{\"cells\":{\"fill\":{\"color\":\"#EBF0F8\"},\"line\":{\"color\":\"white\"}},\"header\":{\"fill\":{\"color\":\"#C8D4E3\"},\"line\":{\"color\":\"white\"}},\"type\":\"table\"}],\"barpolar\":[{\"marker\":{\"line\":{\"color\":\"#E5ECF6\",\"width\":0.5},\"pattern\":{\"fillmode\":\"overlay\",\"size\":10,\"solidity\":0.2}},\"type\":\"barpolar\"}],\"pie\":[{\"automargin\":true,\"type\":\"pie\"}]},\"layout\":{\"autotypenumbers\":\"strict\",\"colorway\":[\"#636efa\",\"#EF553B\",\"#00cc96\",\"#ab63fa\",\"#FFA15A\",\"#19d3f3\",\"#FF6692\",\"#B6E880\",\"#FF97FF\",\"#FECB52\"],\"font\":{\"color\":\"#2a3f5f\"},\"hovermode\":\"closest\",\"hoverlabel\":{\"align\":\"left\"},\"paper_bgcolor\":\"white\",\"plot_bgcolor\":\"#E5ECF6\",\"polar\":{\"bgcolor\":\"#E5ECF6\",\"angularaxis\":{\"gridcolor\":\"white\",\"linecolor\":\"white\",\"ticks\":\"\"},\"radialaxis\":{\"gridcolor\":\"white\",\"linecolor\":\"white\",\"ticks\":\"\"}},\"ternary\":{\"bgcolor\":\"#E5ECF6\",\"aaxis\":{\"gridcolor\":\"white\",\"linecolor\":\"white\",\"ticks\":\"\"},\"baxis\":{\"gridcolor\":\"white\",\"linecolor\":\"white\",\"ticks\":\"\"},\"caxis\":{\"gridcolor\":\"white\",\"linecolor\":\"white\",\"ticks\":\"\"}},\"coloraxis\":{\"colorbar\":{\"outlinewidth\":0,\"ticks\":\"\"}},\"colorscale\":{\"sequential\":[[0.0,\"#0d0887\"],[0.1111111111111111,\"#46039f\"],[0.2222222222222222,\"#7201a8\"],[0.3333333333333333,\"#9c179e\"],[0.4444444444444444,\"#bd3786\"],[0.5555555555555556,\"#d8576b\"],[0.6666666666666666,\"#ed7953\"],[0.7777777777777778,\"#fb9f3a\"],[0.8888888888888888,\"#fdca26\"],[1.0,\"#f0f921\"]],\"sequentialminus\":[[0.0,\"#0d0887\"],[0.1111111111111111,\"#46039f\"],[0.2222222222222222,\"#7201a8\"],[0.3333333333333333,\"#9c179e\"],[0.4444444444444444,\"#bd3786\"],[0.5555555555555556,\"#d8576b\"],[0.6666666666666666,\"#ed7953\"],[0.7777777777777778,\"#fb9f3a\"],[0.8888888888888888,\"#fdca26\"],[1.0,\"#f0f921\"]],\"diverging\":[[0,\"#8e0152\"],[0.1,\"#c51b7d\"],[0.2,\"#de77ae\"],[0.3,\"#f1b6da\"],[0.4,\"#fde0ef\"],[0.5,\"#f7f7f7\"],[0.6,\"#e6f5d0\"],[0.7,\"#b8e186\"],[0.8,\"#7fbc41\"],[0.9,\"#4d9221\"],[1,\"#276419\"]]},\"xaxis\":{\"gridcolor\":\"white\",\"linecolor\":\"white\",\"ticks\":\"\",\"title\":{\"standoff\":15},\"zerolinecolor\":\"white\",\"automargin\":true,\"zerolinewidth\":2},\"yaxis\":{\"gridcolor\":\"white\",\"linecolor\":\"white\",\"ticks\":\"\",\"title\":{\"standoff\":15},\"zerolinecolor\":\"white\",\"automargin\":true,\"zerolinewidth\":2},\"scene\":{\"xaxis\":{\"backgroundcolor\":\"#E5ECF6\",\"gridcolor\":\"white\",\"linecolor\":\"white\",\"showbackground\":true,\"ticks\":\"\",\"zerolinecolor\":\"white\",\"gridwidth\":2},\"yaxis\":{\"backgroundcolor\":\"#E5ECF6\",\"gridcolor\":\"white\",\"linecolor\":\"white\",\"showbackground\":true,\"ticks\":\"\",\"zerolinecolor\":\"white\",\"gridwidth\":2},\"zaxis\":{\"backgroundcolor\":\"#E5ECF6\",\"gridcolor\":\"white\",\"linecolor\":\"white\",\"showbackground\":true,\"ticks\":\"\",\"zerolinecolor\":\"white\",\"gridwidth\":2}},\"shapedefaults\":{\"line\":{\"color\":\"#2a3f5f\"}},\"annotationdefaults\":{\"arrowcolor\":\"#2a3f5f\",\"arrowhead\":0,\"arrowwidth\":1},\"geo\":{\"bgcolor\":\"white\",\"landcolor\":\"#E5ECF6\",\"subunitcolor\":\"white\",\"showland\":true,\"showlakes\":true,\"lakecolor\":\"white\"},\"title\":{\"x\":0.05},\"mapbox\":{\"style\":\"light\"}}}},                        {\"responsive\": true}                    ).then(function(){\n",
       "                            \n",
       "var gd = document.getElementById('c5f5b2a5-275f-4e78-a788-30b3e7f962dc');\n",
       "var x = new MutationObserver(function (mutations, observer) {{\n",
       "        var display = window.getComputedStyle(gd).display;\n",
       "        if (!display || display === 'none') {{\n",
       "            console.log([gd, 'removed!']);\n",
       "            Plotly.purge(gd);\n",
       "            observer.disconnect();\n",
       "        }}\n",
       "}});\n",
       "\n",
       "// Listen for the removal of the full notebook cells\n",
       "var notebookContainer = gd.closest('#notebook-container');\n",
       "if (notebookContainer) {{\n",
       "    x.observe(notebookContainer, {childList: true});\n",
       "}}\n",
       "\n",
       "// Listen for the clearing of the current output cell\n",
       "var outputEl = gd.closest('.output');\n",
       "if (outputEl) {{\n",
       "    x.observe(outputEl, {childList: true});\n",
       "}}\n",
       "\n",
       "                        })                };                });            </script>        </div>"
      ]
     },
     "metadata": {},
     "output_type": "display_data"
    }
   ],
   "source": [
    "min_cred = 5\n",
    "min_conf = 90\n",
    "conf = pred.confidence*100\n",
    "cred = pred.credibility*100\n",
    "second_most_cred = (1 - pred.credibility) * 100\n",
    "cred_threshold_clr = 'red' if cred < min_cred else 'lime'\n",
    "conf_color = 'red' if conf < min_conf else 'green'\n",
    "\n",
    "fig =go.Figure(go.Indicator(\n",
    "    domain={'x': [0, 1], 'y': [0, 1]},\n",
    "    value=conf,\n",
    "    mode='gauge+number+delta',\n",
    "    title={'text':'Risk'},\n",
    "    delta={'reference':second_most_cred},\n",
    "    gauge={'axis': {'range': [None,100]},\n",
    "           'steps': [\n",
    "               {'range': [0,min_cred], 'color': 'tomato'},\n",
    "               {'range': [min_conf,100], 'color': 'lightgray'}],\n",
    "           'threshold': {'line': {'color': cred_threshold_clr, 'width': 4}, 'thickness': 0.75, 'value': cred}}))\n",
    "fig.show()"
   ]
  },
  {
   "cell_type": "code",
   "execution_count": 171,
   "id": "083e4480",
   "metadata": {
    "collapsed": true,
    "jupyter": {
     "outputs_hidden": true
    },
    "tags": []
   },
   "outputs": [
    {
     "data": {
      "image/png": "[encoded data removed]",
      "text/plain": [
       "<Figure size 432x288 with 1 Axes>"
      ]
     },
     "metadata": {
      "needs_background": "light"
     },
     "output_type": "display_data"
    }
   ],
   "source": [
    "fig,ax = plt.subplots()\n",
    "plt.stem(1,1)\n",
    "plt.stem?"
   ]
  },
  {
   "cell_type": "code",
   "execution_count": 164,
   "id": "034b41fb",
   "metadata": {},
   "outputs": [
    {
     "data": {
      "text/html": [
       "<div>\n",
       "<style scoped>\n",
       "    .dataframe tbody tr th:only-of-type {\n",
       "        vertical-align: middle;\n",
       "    }\n",
       "\n",
       "    .dataframe tbody tr th {\n",
       "        vertical-align: top;\n",
       "    }\n",
       "\n",
       "    .dataframe thead th {\n",
       "        text-align: right;\n",
       "    }\n",
       "</style>\n",
       "<table border=\"1\" class=\"dataframe\">\n",
       "  <thead>\n",
       "    <tr style=\"text-align: right;\">\n",
       "      <th></th>\n",
       "      <th>classes</th>\n",
       "      <th>confidence</th>\n",
       "      <th>credibility</th>\n",
       "      <th>eps</th>\n",
       "      <th>p</th>\n",
       "      <th>verdict</th>\n",
       "      <th>T1</th>\n",
       "      <th>N_Biop</th>\n",
       "      <th>HypPlas</th>\n",
       "      <th>AgeMen</th>\n",
       "      <th>Age1st</th>\n",
       "      <th>N_Rels</th>\n",
       "      <th>Race</th>\n",
       "      <th>class</th>\n",
       "    </tr>\n",
       "  </thead>\n",
       "  <tbody>\n",
       "    <tr>\n",
       "      <th>82</th>\n",
       "      <td>[]</td>\n",
       "      <td>0.917910</td>\n",
       "      <td>0.089552</td>\n",
       "      <td>0.1</td>\n",
       "      <td>[(0.08208955223880597, 0), (0.0895522388059701...</td>\n",
       "      <td>False</td>\n",
       "      <td>0.500000</td>\n",
       "      <td>0</td>\n",
       "      <td>2</td>\n",
       "      <td>0.285714</td>\n",
       "      <td>0.038462</td>\n",
       "      <td>2</td>\n",
       "      <td>3</td>\n",
       "      <td>0</td>\n",
       "    </tr>\n",
       "    <tr>\n",
       "      <th>116</th>\n",
       "      <td>[]</td>\n",
       "      <td>0.917910</td>\n",
       "      <td>0.097015</td>\n",
       "      <td>0.1</td>\n",
       "      <td>[(0.09701492537313433, 0), (0.0820895522388059...</td>\n",
       "      <td>False</td>\n",
       "      <td>0.500000</td>\n",
       "      <td>0</td>\n",
       "      <td>2</td>\n",
       "      <td>0.571429</td>\n",
       "      <td>1.000000</td>\n",
       "      <td>0</td>\n",
       "      <td>0</td>\n",
       "      <td>1</td>\n",
       "    </tr>\n",
       "    <tr>\n",
       "      <th>191</th>\n",
       "      <td>[1]</td>\n",
       "      <td>0.921642</td>\n",
       "      <td>0.100746</td>\n",
       "      <td>0.1</td>\n",
       "      <td>[(0.07835820895522388, 0), (0.1007462686567164...</td>\n",
       "      <td>False</td>\n",
       "      <td>0.470588</td>\n",
       "      <td>0</td>\n",
       "      <td>2</td>\n",
       "      <td>0.714286</td>\n",
       "      <td>0.051282</td>\n",
       "      <td>1</td>\n",
       "      <td>2</td>\n",
       "      <td>0</td>\n",
       "    </tr>\n",
       "    <tr>\n",
       "      <th>85</th>\n",
       "      <td>[1]</td>\n",
       "      <td>0.929104</td>\n",
       "      <td>0.108209</td>\n",
       "      <td>0.1</td>\n",
       "      <td>[(0.0708955223880597, 0), (0.10820895522388059...</td>\n",
       "      <td>False</td>\n",
       "      <td>0.411765</td>\n",
       "      <td>2</td>\n",
       "      <td>0</td>\n",
       "      <td>0.571429</td>\n",
       "      <td>0.089744</td>\n",
       "      <td>0</td>\n",
       "      <td>0</td>\n",
       "      <td>0</td>\n",
       "    </tr>\n",
       "    <tr>\n",
       "      <th>287</th>\n",
       "      <td>[1]</td>\n",
       "      <td>0.929104</td>\n",
       "      <td>0.108209</td>\n",
       "      <td>0.1</td>\n",
       "      <td>[(0.0708955223880597, 0), (0.10820895522388059...</td>\n",
       "      <td>False</td>\n",
       "      <td>0.441176</td>\n",
       "      <td>1</td>\n",
       "      <td>1</td>\n",
       "      <td>0.142857</td>\n",
       "      <td>0.064103</td>\n",
       "      <td>0</td>\n",
       "      <td>3</td>\n",
       "      <td>0</td>\n",
       "    </tr>\n",
       "  </tbody>\n",
       "</table>\n",
       "</div>"
      ],
      "text/plain": [
       "    classes  confidence  credibility  eps  \\\n",
       "82       []    0.917910     0.089552  0.1   \n",
       "116      []    0.917910     0.097015  0.1   \n",
       "191     [1]    0.921642     0.100746  0.1   \n",
       "85      [1]    0.929104     0.108209  0.1   \n",
       "287     [1]    0.929104     0.108209  0.1   \n",
       "\n",
       "                                                     p  verdict        T1  \\\n",
       "82   [(0.08208955223880597, 0), (0.0895522388059701...    False  0.500000   \n",
       "116  [(0.09701492537313433, 0), (0.0820895522388059...    False  0.500000   \n",
       "191  [(0.07835820895522388, 0), (0.1007462686567164...    False  0.470588   \n",
       "85   [(0.0708955223880597, 0), (0.10820895522388059...    False  0.411765   \n",
       "287  [(0.0708955223880597, 0), (0.10820895522388059...    False  0.441176   \n",
       "\n",
       "     N_Biop  HypPlas    AgeMen    Age1st  N_Rels  Race  class  \n",
       "82        0        2  0.285714  0.038462       2     3      0  \n",
       "116       0        2  0.571429  1.000000       0     0      1  \n",
       "191       0        2  0.714286  0.051282       1     2      0  \n",
       "85        2        0  0.571429  0.089744       0     0      0  \n",
       "287       1        1  0.142857  0.064103       0     3      0  "
      ]
     },
     "execution_count": 164,
     "metadata": {},
     "output_type": "execute_result"
    },
    {
     "data": {
      "image/png": "[encoded data removed]",
      "text/plain": [
       "<Figure size 432x288 with 1 Axes>"
      ]
     },
     "metadata": {
      "needs_background": "light"
     },
     "output_type": "display_data"
    }
   ],
   "source": [
    "df=tt.loc[0, 'df']\n",
    "util.plot_conf_cred(df[~df.verdict].sort_values(by=['confidence','credibility']), title='wrong prediction')\n",
    "df[~df.verdict].sort_values(by=['confidence','credibility']).head()\n",
    "# df[~df.verdict].sort_values(by=['confidence','credibility'])"
   ]
  },
  {
   "cell_type": "code",
   "execution_count": 165,
   "id": "23e1bee5",
   "metadata": {},
   "outputs": [
    {
     "data": {
      "text/html": [
       "<div>\n",
       "<style scoped>\n",
       "    .dataframe tbody tr th:only-of-type {\n",
       "        vertical-align: middle;\n",
       "    }\n",
       "\n",
       "    .dataframe tbody tr th {\n",
       "        vertical-align: top;\n",
       "    }\n",
       "\n",
       "    .dataframe thead th {\n",
       "        text-align: right;\n",
       "    }\n",
       "</style>\n",
       "<table border=\"1\" class=\"dataframe\">\n",
       "  <thead>\n",
       "    <tr style=\"text-align: right;\">\n",
       "      <th></th>\n",
       "      <th>classes</th>\n",
       "      <th>confidence</th>\n",
       "      <th>credibility</th>\n",
       "      <th>eps</th>\n",
       "      <th>p</th>\n",
       "      <th>verdict</th>\n",
       "      <th>T1</th>\n",
       "      <th>N_Biop</th>\n",
       "      <th>HypPlas</th>\n",
       "      <th>AgeMen</th>\n",
       "      <th>Age1st</th>\n",
       "      <th>N_Rels</th>\n",
       "      <th>Race</th>\n",
       "      <th>class</th>\n",
       "    </tr>\n",
       "  </thead>\n",
       "  <tbody>\n",
       "    <tr>\n",
       "      <th>82</th>\n",
       "      <td>[]</td>\n",
       "      <td>0.91791</td>\n",
       "      <td>0.089552</td>\n",
       "      <td>0.1</td>\n",
       "      <td>[(0.08208955223880597, 0), (0.0895522388059701...</td>\n",
       "      <td>False</td>\n",
       "      <td>0.500000</td>\n",
       "      <td>0</td>\n",
       "      <td>2</td>\n",
       "      <td>0.285714</td>\n",
       "      <td>0.038462</td>\n",
       "      <td>2</td>\n",
       "      <td>3</td>\n",
       "      <td>0</td>\n",
       "    </tr>\n",
       "    <tr>\n",
       "      <th>116</th>\n",
       "      <td>[]</td>\n",
       "      <td>0.91791</td>\n",
       "      <td>0.097015</td>\n",
       "      <td>0.1</td>\n",
       "      <td>[(0.09701492537313433, 0), (0.0820895522388059...</td>\n",
       "      <td>False</td>\n",
       "      <td>0.500000</td>\n",
       "      <td>0</td>\n",
       "      <td>2</td>\n",
       "      <td>0.571429</td>\n",
       "      <td>1.000000</td>\n",
       "      <td>0</td>\n",
       "      <td>0</td>\n",
       "      <td>1</td>\n",
       "    </tr>\n",
       "    <tr>\n",
       "      <th>94</th>\n",
       "      <td>[0]</td>\n",
       "      <td>0.91791</td>\n",
       "      <td>0.100746</td>\n",
       "      <td>0.1</td>\n",
       "      <td>[(0.10074626865671642, 0), (0.0820895522388059...</td>\n",
       "      <td>True</td>\n",
       "      <td>0.470588</td>\n",
       "      <td>0</td>\n",
       "      <td>2</td>\n",
       "      <td>0.571429</td>\n",
       "      <td>1.000000</td>\n",
       "      <td>0</td>\n",
       "      <td>2</td>\n",
       "      <td>0</td>\n",
       "    </tr>\n",
       "    <tr>\n",
       "      <th>134</th>\n",
       "      <td>[1]</td>\n",
       "      <td>0.91791</td>\n",
       "      <td>0.100746</td>\n",
       "      <td>0.1</td>\n",
       "      <td>[(0.08208955223880597, 0), (0.1007462686567164...</td>\n",
       "      <td>True</td>\n",
       "      <td>0.529412</td>\n",
       "      <td>0</td>\n",
       "      <td>2</td>\n",
       "      <td>0.285714</td>\n",
       "      <td>1.000000</td>\n",
       "      <td>0</td>\n",
       "      <td>1</td>\n",
       "      <td>1</td>\n",
       "    </tr>\n",
       "    <tr>\n",
       "      <th>286</th>\n",
       "      <td>[0]</td>\n",
       "      <td>0.91791</td>\n",
       "      <td>0.100746</td>\n",
       "      <td>0.1</td>\n",
       "      <td>[(0.10074626865671642, 0), (0.0820895522388059...</td>\n",
       "      <td>True</td>\n",
       "      <td>0.470588</td>\n",
       "      <td>0</td>\n",
       "      <td>2</td>\n",
       "      <td>0.571429</td>\n",
       "      <td>0.051282</td>\n",
       "      <td>1</td>\n",
       "      <td>2</td>\n",
       "      <td>0</td>\n",
       "    </tr>\n",
       "  </tbody>\n",
       "</table>\n",
       "</div>"
      ],
      "text/plain": [
       "    classes  confidence  credibility  eps  \\\n",
       "82       []     0.91791     0.089552  0.1   \n",
       "116      []     0.91791     0.097015  0.1   \n",
       "94      [0]     0.91791     0.100746  0.1   \n",
       "134     [1]     0.91791     0.100746  0.1   \n",
       "286     [0]     0.91791     0.100746  0.1   \n",
       "\n",
       "                                                     p  verdict        T1  \\\n",
       "82   [(0.08208955223880597, 0), (0.0895522388059701...    False  0.500000   \n",
       "116  [(0.09701492537313433, 0), (0.0820895522388059...    False  0.500000   \n",
       "94   [(0.10074626865671642, 0), (0.0820895522388059...     True  0.470588   \n",
       "134  [(0.08208955223880597, 0), (0.1007462686567164...     True  0.529412   \n",
       "286  [(0.10074626865671642, 0), (0.0820895522388059...     True  0.470588   \n",
       "\n",
       "     N_Biop  HypPlas    AgeMen    Age1st  N_Rels  Race  class  \n",
       "82        0        2  0.285714  0.038462       2     3      0  \n",
       "116       0        2  0.571429  1.000000       0     0      1  \n",
       "94        0        2  0.571429  1.000000       0     2      0  \n",
       "134       0        2  0.285714  1.000000       0     1      1  \n",
       "286       0        2  0.571429  0.051282       1     2      0  "
      ]
     },
     "execution_count": 165,
     "metadata": {},
     "output_type": "execute_result"
    },
    {
     "data": {
      "image/png": "[encoded data removed]",
      "text/plain": [
       "<Figure size 432x288 with 1 Axes>"
      ]
     },
     "metadata": {
      "needs_background": "light"
     },
     "output_type": "display_data"
    }
   ],
   "source": [
    "util.plot_conf_cred(df[df.confidence < 0.95].sort_values(by=['confidence','credibility']), title='low confidence')\n",
    "df[df.confidence < 0.95].sort_values(by=['confidence','credibility']).head()\n",
    "# df[df.confidence < 0.95].sort_values(by=['confidence','credibility'])"
   ]
  },
  {
   "cell_type": "code",
   "execution_count": null,
   "id": "13a47f59",
   "metadata": {},
   "outputs": [],
   "source": []
  },
  {
   "cell_type": "code",
   "execution_count": null,
   "id": "a67128c5",
   "metadata": {},
   "outputs": [],
   "source": []
  },
  {
   "cell_type": "code",
   "execution_count": null,
   "id": "3711a183",
   "metadata": {},
   "outputs": [],
   "source": []
  },
  {
   "cell_type": "code",
   "execution_count": 128,
   "id": "b53c56f6",
   "metadata": {},
   "outputs": [
    {
     "data": {
      "text/html": [
       "<div>\n",
       "<style scoped>\n",
       "    .dataframe tbody tr th:only-of-type {\n",
       "        vertical-align: middle;\n",
       "    }\n",
       "\n",
       "    .dataframe tbody tr th {\n",
       "        vertical-align: top;\n",
       "    }\n",
       "\n",
       "    .dataframe thead th {\n",
       "        text-align: right;\n",
       "    }\n",
       "</style>\n",
       "<table border=\"1\" class=\"dataframe\">\n",
       "  <thead>\n",
       "    <tr style=\"text-align: right;\">\n",
       "      <th></th>\n",
       "      <th>confidence</th>\n",
       "      <th>credibility</th>\n",
       "      <th>verdict</th>\n",
       "      <th>empty</th>\n",
       "      <th>single</th>\n",
       "      <th>single_correct</th>\n",
       "      <th>multiple</th>\n",
       "      <th>data</th>\n",
       "      <th>mondrian</th>\n",
       "      <th>classifier</th>\n",
       "      <th>conformal_predictor</th>\n",
       "      <th>nonconformity</th>\n",
       "      <th>method</th>\n",
       "      <th>model</th>\n",
       "      <th>instance_of_model</th>\n",
       "      <th>df</th>\n",
       "    </tr>\n",
       "  </thead>\n",
       "  <tbody>\n",
       "    <tr>\n",
       "      <th>0</th>\n",
       "      <td>0.984347</td>\n",
       "      <td>0.497817</td>\n",
       "      <td>0.9325</td>\n",
       "      <td>0.005</td>\n",
       "      <td>0.995</td>\n",
       "      <td>0.9325</td>\n",
       "      <td>0.0</td>\n",
       "      <td>signal_with_header_for_orange</td>\n",
       "      <td>False</td>\n",
       "      <td>logistic regression</td>\n",
       "      <td>InductiveClassifier (InverseProbability (logis...</td>\n",
       "      <td>InverseProbability (logistic regression)</td>\n",
       "      <td></td>\n",
       "      <td>LogisticRegressionClassifier(skl_model=Logisti...</td>\n",
       "      <td>InductiveClassifier (InverseProbability (logis...</td>\n",
       "      <td>classes  confidence  credibility  eps  \\\n",
       "0...</td>\n",
       "    </tr>\n",
       "    <tr>\n",
       "      <th>1</th>\n",
       "      <td>0.984347</td>\n",
       "      <td>0.497817</td>\n",
       "      <td>0.9325</td>\n",
       "      <td>0.005</td>\n",
       "      <td>0.995</td>\n",
       "      <td>0.9325</td>\n",
       "      <td>0.0</td>\n",
       "      <td>signal_with_header_for_orange</td>\n",
       "      <td>False</td>\n",
       "      <td>logistic regression</td>\n",
       "      <td>InductiveClassifier (InverseProbability (logis...</td>\n",
       "      <td>InverseProbability (logistic regression)</td>\n",
       "      <td></td>\n",
       "      <td>LogisticRegressionClassifier(skl_model=Logisti...</td>\n",
       "      <td>InductiveClassifier (InverseProbability (logis...</td>\n",
       "      <td>classes  confidence  credibility  eps  \\\n",
       "0...</td>\n",
       "    </tr>\n",
       "    <tr>\n",
       "      <th>2</th>\n",
       "      <td>0.984347</td>\n",
       "      <td>0.497817</td>\n",
       "      <td>0.9325</td>\n",
       "      <td>0.005</td>\n",
       "      <td>0.995</td>\n",
       "      <td>0.9325</td>\n",
       "      <td>0.0</td>\n",
       "      <td>signal_with_header_for_orange</td>\n",
       "      <td>False</td>\n",
       "      <td>logistic regression</td>\n",
       "      <td>InductiveClassifier (InverseProbability (logis...</td>\n",
       "      <td>InverseProbability (logistic regression)</td>\n",
       "      <td></td>\n",
       "      <td>LogisticRegressionClassifier(skl_model=Logisti...</td>\n",
       "      <td>InductiveClassifier (InverseProbability (logis...</td>\n",
       "      <td>classes  confidence  credibility  eps  \\\n",
       "0...</td>\n",
       "    </tr>\n",
       "  </tbody>\n",
       "</table>\n",
       "</div>"
      ],
      "text/plain": [
       "  confidence credibility verdict  empty single single_correct multiple  \\\n",
       "0   0.984347    0.497817  0.9325  0.005  0.995         0.9325      0.0   \n",
       "1   0.984347    0.497817  0.9325  0.005  0.995         0.9325      0.0   \n",
       "2   0.984347    0.497817  0.9325  0.005  0.995         0.9325      0.0   \n",
       "\n",
       "                            data mondrian           classifier  \\\n",
       "0  signal_with_header_for_orange    False  logistic regression   \n",
       "1  signal_with_header_for_orange    False  logistic regression   \n",
       "2  signal_with_header_for_orange    False  logistic regression   \n",
       "\n",
       "                                 conformal_predictor  \\\n",
       "0  InductiveClassifier (InverseProbability (logis...   \n",
       "1  InductiveClassifier (InverseProbability (logis...   \n",
       "2  InductiveClassifier (InverseProbability (logis...   \n",
       "\n",
       "                              nonconformity method  \\\n",
       "0  InverseProbability (logistic regression)          \n",
       "1  InverseProbability (logistic regression)          \n",
       "2  InverseProbability (logistic regression)          \n",
       "\n",
       "                                               model  \\\n",
       "0  LogisticRegressionClassifier(skl_model=Logisti...   \n",
       "1  LogisticRegressionClassifier(skl_model=Logisti...   \n",
       "2  LogisticRegressionClassifier(skl_model=Logisti...   \n",
       "\n",
       "                                   instance_of_model  \\\n",
       "0  InductiveClassifier (InverseProbability (logis...   \n",
       "1  InductiveClassifier (InverseProbability (logis...   \n",
       "2  InductiveClassifier (InverseProbability (logis...   \n",
       "\n",
       "                                                  df  \n",
       "0      classes  confidence  credibility  eps  \\\n",
       "0...  \n",
       "1      classes  confidence  credibility  eps  \\\n",
       "0...  \n",
       "2      classes  confidence  credibility  eps  \\\n",
       "0...  "
      ]
     },
     "execution_count": 128,
     "metadata": {},
     "output_type": "execute_result"
    },
    {
     "data": {
      "image/png": "[encoded data removed]",
      "text/plain": [
       "<Figure size 432x288 with 1 Axes>"
      ]
     },
     "metadata": {
      "needs_background": "light"
     },
     "output_type": "display_data"
    }
   ],
   "source": [
    "np.random.seed(42)\n",
    "\n",
    "\n",
    "train, test = next(cp.evaluation.RandomSampler(tab_signal,2,1))\n",
    "train, calibrate = next(cp.evaluation.RandomSampler(train,2,1))\n",
    "\n",
    "cc=cp.classification.InductiveClassifier(cp.nonconformity.InverseProbability(Orange.classification.LogisticRegressionLearner()))\n",
    "tt = run_experiments(cc, train, test, calibrate, times=3)\n",
    "\n",
    "plot_experiments(tt)\n",
    "tt"
   ]
  },
  {
   "cell_type": "markdown",
   "id": "aeca49d7",
   "metadata": {},
   "source": [
    "Notice LR doesn't change, but RF below does"
   ]
  },
  {
   "cell_type": "code",
   "execution_count": 127,
   "id": "fbe4f39f",
   "metadata": {},
   "outputs": [
    {
     "data": {
      "text/html": [
       "<div>\n",
       "<style scoped>\n",
       "    .dataframe tbody tr th:only-of-type {\n",
       "        vertical-align: middle;\n",
       "    }\n",
       "\n",
       "    .dataframe tbody tr th {\n",
       "        vertical-align: top;\n",
       "    }\n",
       "\n",
       "    .dataframe thead th {\n",
       "        text-align: right;\n",
       "    }\n",
       "</style>\n",
       "<table border=\"1\" class=\"dataframe\">\n",
       "  <thead>\n",
       "    <tr style=\"text-align: right;\">\n",
       "      <th></th>\n",
       "      <th>confidence</th>\n",
       "      <th>credibility</th>\n",
       "      <th>verdict</th>\n",
       "      <th>empty</th>\n",
       "      <th>single</th>\n",
       "      <th>single_correct</th>\n",
       "      <th>multiple</th>\n",
       "      <th>data</th>\n",
       "      <th>mondrian</th>\n",
       "      <th>classifier</th>\n",
       "      <th>conformal_predictor</th>\n",
       "      <th>nonconformity</th>\n",
       "      <th>method</th>\n",
       "      <th>model</th>\n",
       "      <th>instance_of_model</th>\n",
       "      <th>df</th>\n",
       "    </tr>\n",
       "  </thead>\n",
       "  <tbody>\n",
       "    <tr>\n",
       "      <th>0</th>\n",
       "      <td>0.966604</td>\n",
       "      <td>0.633946</td>\n",
       "      <td>0.93</td>\n",
       "      <td>0.0</td>\n",
       "      <td>0.9725</td>\n",
       "      <td>0.9025</td>\n",
       "      <td>0.0275</td>\n",
       "      <td>signal_with_header_for_orange</td>\n",
       "      <td>False</td>\n",
       "      <td>random forest</td>\n",
       "      <td>InductiveClassifier (InverseProbability (rando...</td>\n",
       "      <td>InverseProbability (random forest)</td>\n",
       "      <td></td>\n",
       "      <td>RandomForestClassifier(skl_model=RandomForestC...</td>\n",
       "      <td>InductiveClassifier (InverseProbability (rando...</td>\n",
       "      <td>classes  confidence  credibility  eps  \\\n",
       "0...</td>\n",
       "    </tr>\n",
       "    <tr>\n",
       "      <th>1</th>\n",
       "      <td>0.959636</td>\n",
       "      <td>0.677509</td>\n",
       "      <td>0.915</td>\n",
       "      <td>0.0</td>\n",
       "      <td>0.9725</td>\n",
       "      <td>0.8875</td>\n",
       "      <td>0.0275</td>\n",
       "      <td>signal_with_header_for_orange</td>\n",
       "      <td>False</td>\n",
       "      <td>random forest</td>\n",
       "      <td>InductiveClassifier (InverseProbability (rando...</td>\n",
       "      <td>InverseProbability (random forest)</td>\n",
       "      <td></td>\n",
       "      <td>RandomForestClassifier(skl_model=RandomForestC...</td>\n",
       "      <td>InductiveClassifier (InverseProbability (rando...</td>\n",
       "      <td>classes  confidence  credibility  eps  \\\n",
       "0...</td>\n",
       "    </tr>\n",
       "    <tr>\n",
       "      <th>2</th>\n",
       "      <td>0.96472</td>\n",
       "      <td>0.662351</td>\n",
       "      <td>0.9475</td>\n",
       "      <td>0.0</td>\n",
       "      <td>0.895</td>\n",
       "      <td>0.8425</td>\n",
       "      <td>0.105</td>\n",
       "      <td>signal_with_header_for_orange</td>\n",
       "      <td>False</td>\n",
       "      <td>random forest</td>\n",
       "      <td>InductiveClassifier (InverseProbability (rando...</td>\n",
       "      <td>InverseProbability (random forest)</td>\n",
       "      <td></td>\n",
       "      <td>RandomForestClassifier(skl_model=RandomForestC...</td>\n",
       "      <td>InductiveClassifier (InverseProbability (rando...</td>\n",
       "      <td>classes  confidence  credibility  eps  \\\n",
       "0...</td>\n",
       "    </tr>\n",
       "  </tbody>\n",
       "</table>\n",
       "</div>"
      ],
      "text/plain": [
       "  confidence credibility verdict empty  single single_correct multiple  \\\n",
       "0   0.966604    0.633946    0.93   0.0  0.9725         0.9025   0.0275   \n",
       "1   0.959636    0.677509   0.915   0.0  0.9725         0.8875   0.0275   \n",
       "2    0.96472    0.662351  0.9475   0.0   0.895         0.8425    0.105   \n",
       "\n",
       "                            data mondrian     classifier  \\\n",
       "0  signal_with_header_for_orange    False  random forest   \n",
       "1  signal_with_header_for_orange    False  random forest   \n",
       "2  signal_with_header_for_orange    False  random forest   \n",
       "\n",
       "                                 conformal_predictor  \\\n",
       "0  InductiveClassifier (InverseProbability (rando...   \n",
       "1  InductiveClassifier (InverseProbability (rando...   \n",
       "2  InductiveClassifier (InverseProbability (rando...   \n",
       "\n",
       "                        nonconformity method  \\\n",
       "0  InverseProbability (random forest)          \n",
       "1  InverseProbability (random forest)          \n",
       "2  InverseProbability (random forest)          \n",
       "\n",
       "                                               model  \\\n",
       "0  RandomForestClassifier(skl_model=RandomForestC...   \n",
       "1  RandomForestClassifier(skl_model=RandomForestC...   \n",
       "2  RandomForestClassifier(skl_model=RandomForestC...   \n",
       "\n",
       "                                   instance_of_model  \\\n",
       "0  InductiveClassifier (InverseProbability (rando...   \n",
       "1  InductiveClassifier (InverseProbability (rando...   \n",
       "2  InductiveClassifier (InverseProbability (rando...   \n",
       "\n",
       "                                                  df  \n",
       "0      classes  confidence  credibility  eps  \\\n",
       "0...  \n",
       "1      classes  confidence  credibility  eps  \\\n",
       "0...  \n",
       "2      classes  confidence  credibility  eps  \\\n",
       "0...  "
      ]
     },
     "execution_count": 127,
     "metadata": {},
     "output_type": "execute_result"
    },
    {
     "data": {
      "image/png": "[encoded data removed]",
      "text/plain": [
       "<Figure size 432x288 with 1 Axes>"
      ]
     },
     "metadata": {
      "needs_background": "light"
     },
     "output_type": "display_data"
    }
   ],
   "source": [
    "np.random.seed(42)\n",
    "\n",
    "\n",
    "train, test = next(cp.evaluation.RandomSampler(tab_signal,2,1))\n",
    "train, calibrate = next(cp.evaluation.RandomSampler(train,2,1))\n",
    "\n",
    "cc=cp.classification.InductiveClassifier(cp.nonconformity.InverseProbability(Orange.classification.RandomForestLearner()))\n",
    "tt = run_experiments(cc, train, test, calibrate, times=3)\n",
    "\n",
    "plot_experiments(tt)\n",
    "tt"
   ]
  },
  {
   "cell_type": "code",
   "execution_count": null,
   "id": "180a0372",
   "metadata": {},
   "outputs": [],
   "source": []
  },
  {
   "cell_type": "code",
   "execution_count": null,
   "id": "8d4bc7af",
   "metadata": {},
   "outputs": [],
   "source": []
  },
  {
   "cell_type": "code",
   "execution_count": null,
   "id": "28b6714b",
   "metadata": {},
   "outputs": [],
   "source": []
  },
  {
   "cell_type": "markdown",
   "id": "f4644d9e",
   "metadata": {},
   "source": [
    "-----"
   ]
  },
  {
   "cell_type": "markdown",
   "id": "b7d927ad",
   "metadata": {},
   "source": [
    "-----"
   ]
  }
 ],
 "metadata": {
  "kernelspec": {
   "display_name": "Python 3 (ipykernel)",
   "language": "python",
   "name": "python3"
  },
  "language_info": {
   "codemirror_mode": {
    "name": "ipython",
    "version": 3
   },
   "file_extension": ".py",
   "mimetype": "text/x-python",
   "name": "python",
   "nbconvert_exporter": "python",
   "pygments_lexer": "ipython3",
   "version": "3.8.10"
  }
 },
 "nbformat": 4,
 "nbformat_minor": 5
}
